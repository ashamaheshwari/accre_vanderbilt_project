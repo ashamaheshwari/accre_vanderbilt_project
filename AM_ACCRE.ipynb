{
 "cells": [
  {
   "cell_type": "code",
   "execution_count": 12,
   "id": "8d6d0ff3",
   "metadata": {},
   "outputs": [],
   "source": [
    "import pandas as pd\n",
    "import requests\n",
    "import numpy as np\n",
    "import matplotlib.pyplot as plt\n",
    "import seaborn as sns"
   ]
  },
  {
   "cell_type": "code",
   "execution_count": 10,
   "id": "c3311425",
   "metadata": {},
   "outputs": [
    {
     "name": "stderr",
     "output_type": "stream",
     "text": [
      "/var/folders/s3/9_r9v9px7_v0q69b5zcbnmsm0000gn/T/ipykernel_3044/1417506543.py:1: FutureWarning: The error_bad_lines argument has been deprecated and will be removed in a future version. Use on_bad_lines in the future.\n",
      "\n",
      "\n",
      "  ACCRE = pd.read_csv('accre-gpu-jobs-2022-v2.csv', error_bad_lines=False)\n",
      "b'Skipping line 124084: expected 12 fields, saw 13\\nSkipping line 124809: expected 12 fields, saw 13\\n'\n"
     ]
    }
   ],
   "source": [
    "ACCRE = pd.read_csv('accre-gpu-jobs-2022-v2.csv', error_bad_lines=False)"
   ]
  },
  {
   "cell_type": "code",
   "execution_count": 11,
   "id": "080f45a6",
   "metadata": {},
   "outputs": [
    {
     "data": {
      "text/html": [
       "<div>\n",
       "<style scoped>\n",
       "    .dataframe tbody tr th:only-of-type {\n",
       "        vertical-align: middle;\n",
       "    }\n",
       "\n",
       "    .dataframe tbody tr th {\n",
       "        vertical-align: top;\n",
       "    }\n",
       "\n",
       "    .dataframe thead th {\n",
       "        text-align: right;\n",
       "    }\n",
       "</style>\n",
       "<table border=\"1\" class=\"dataframe\">\n",
       "  <thead>\n",
       "    <tr style=\"text-align: right;\">\n",
       "      <th></th>\n",
       "      <th>JOBID</th>\n",
       "      <th>ACCOUNT</th>\n",
       "      <th>USER</th>\n",
       "      <th>USEDMEM</th>\n",
       "      <th>REQTIME</th>\n",
       "      <th>USEDTIME</th>\n",
       "      <th>NODES</th>\n",
       "      <th>CPUS</th>\n",
       "      <th>GPUS</th>\n",
       "      <th>PARTITION</th>\n",
       "      <th>EXITCODE</th>\n",
       "      <th>STATE</th>\n",
       "    </tr>\n",
       "  </thead>\n",
       "  <tbody>\n",
       "    <tr>\n",
       "      <th>0</th>\n",
       "      <td>32880657</td>\n",
       "      <td>malanga</td>\n",
       "      <td>arline</td>\n",
       "      <td>18.66M</td>\n",
       "      <td>2-00:00:00</td>\n",
       "      <td>00:13:13</td>\n",
       "      <td>1</td>\n",
       "      <td>2</td>\n",
       "      <td>1</td>\n",
       "      <td>pascal</td>\n",
       "      <td>0:0</td>\n",
       "      <td>COMPLETED</td>\n",
       "    </tr>\n",
       "    <tr>\n",
       "      <th>1</th>\n",
       "      <td>32880701</td>\n",
       "      <td>glasshouse</td>\n",
       "      <td>brady</td>\n",
       "      <td>0</td>\n",
       "      <td>05:00:00</td>\n",
       "      <td>00:00:22</td>\n",
       "      <td>1</td>\n",
       "      <td>3</td>\n",
       "      <td>1</td>\n",
       "      <td>maxwell</td>\n",
       "      <td>0:0</td>\n",
       "      <td>COMPLETED</td>\n",
       "    </tr>\n",
       "    <tr>\n",
       "      <th>2</th>\n",
       "      <td>32880718</td>\n",
       "      <td>glasshouse</td>\n",
       "      <td>brady</td>\n",
       "      <td>402.32M</td>\n",
       "      <td>05:00:00</td>\n",
       "      <td>00:08:57</td>\n",
       "      <td>1</td>\n",
       "      <td>3</td>\n",
       "      <td>1</td>\n",
       "      <td>maxwell</td>\n",
       "      <td>0:0</td>\n",
       "      <td>COMPLETED</td>\n",
       "    </tr>\n",
       "    <tr>\n",
       "      <th>3</th>\n",
       "      <td>32880719</td>\n",
       "      <td>glasshouse</td>\n",
       "      <td>brady</td>\n",
       "      <td>417.62M</td>\n",
       "      <td>20:00:00</td>\n",
       "      <td>05:09:46</td>\n",
       "      <td>1</td>\n",
       "      <td>1</td>\n",
       "      <td>1</td>\n",
       "      <td>pascal</td>\n",
       "      <td>0:0</td>\n",
       "      <td>COMPLETED</td>\n",
       "    </tr>\n",
       "    <tr>\n",
       "      <th>4</th>\n",
       "      <td>32880720</td>\n",
       "      <td>glasshouse</td>\n",
       "      <td>brady</td>\n",
       "      <td>450.09M</td>\n",
       "      <td>15:00:00</td>\n",
       "      <td>04:11:10</td>\n",
       "      <td>1</td>\n",
       "      <td>1</td>\n",
       "      <td>1</td>\n",
       "      <td>pascal</td>\n",
       "      <td>0:0</td>\n",
       "      <td>COMPLETED</td>\n",
       "    </tr>\n",
       "  </tbody>\n",
       "</table>\n",
       "</div>"
      ],
      "text/plain": [
       "      JOBID     ACCOUNT    USER  USEDMEM     REQTIME  USEDTIME  NODES  CPUS  \\\n",
       "0  32880657     malanga  arline   18.66M  2-00:00:00  00:13:13      1     2   \n",
       "1  32880701  glasshouse   brady        0    05:00:00  00:00:22      1     3   \n",
       "2  32880718  glasshouse   brady  402.32M    05:00:00  00:08:57      1     3   \n",
       "3  32880719  glasshouse   brady  417.62M    20:00:00  05:09:46      1     1   \n",
       "4  32880720  glasshouse   brady  450.09M    15:00:00  04:11:10      1     1   \n",
       "\n",
       "   GPUS PARTITION EXITCODE      STATE  \n",
       "0     1    pascal      0:0  COMPLETED  \n",
       "1     1   maxwell      0:0  COMPLETED  \n",
       "2     1   maxwell      0:0  COMPLETED  \n",
       "3     1    pascal      0:0  COMPLETED  \n",
       "4     1    pascal      0:0  COMPLETED  "
      ]
     },
     "execution_count": 11,
     "metadata": {},
     "output_type": "execute_result"
    }
   ],
   "source": [
    "ACCRE.head()"
   ]
  },
  {
   "cell_type": "code",
   "execution_count": 13,
   "id": "b8038453",
   "metadata": {},
   "outputs": [
    {
     "name": "stdout",
     "output_type": "stream",
     "text": [
      "<class 'pandas.core.frame.DataFrame'>\n",
      "RangeIndex: 336950 entries, 0 to 336949\n",
      "Data columns (total 12 columns):\n",
      " #   Column     Non-Null Count   Dtype \n",
      "---  ------     --------------   ----- \n",
      " 0   JOBID      336950 non-null  object\n",
      " 1   ACCOUNT    336950 non-null  object\n",
      " 2   USER       336950 non-null  object\n",
      " 3   USEDMEM    336950 non-null  object\n",
      " 4   REQTIME    336950 non-null  object\n",
      " 5   USEDTIME   336950 non-null  object\n",
      " 6   NODES      336950 non-null  int64 \n",
      " 7   CPUS       336950 non-null  int64 \n",
      " 8   GPUS       336950 non-null  int64 \n",
      " 9   PARTITION  336950 non-null  object\n",
      " 10  EXITCODE   336950 non-null  object\n",
      " 11  STATE      336950 non-null  object\n",
      "dtypes: int64(3), object(9)\n",
      "memory usage: 30.8+ MB\n"
     ]
    }
   ],
   "source": [
    "ACCRE.info()"
   ]
  },
  {
   "cell_type": "code",
   "execution_count": 14,
   "id": "b590ba16",
   "metadata": {},
   "outputs": [
    {
     "data": {
      "text/plain": [
       "(336950, 12)"
      ]
     },
     "execution_count": 14,
     "metadata": {},
     "output_type": "execute_result"
    }
   ],
   "source": [
    "ACCRE.shape"
   ]
  },
  {
   "cell_type": "code",
   "execution_count": 23,
   "id": "f6362483",
   "metadata": {},
   "outputs": [],
   "source": [
    "ACCRE['USEDMEM']=ACCRE['USEDMEM'].str.replace('M', '')\n",
    "ACCRE['USEDMEM']=ACCRE['USEDMEM'].astype(float)"
   ]
  },
  {
   "cell_type": "code",
   "execution_count": 24,
   "id": "3cc30023",
   "metadata": {},
   "outputs": [
    {
     "name": "stdout",
     "output_type": "stream",
     "text": [
      "<class 'pandas.core.frame.DataFrame'>\n",
      "RangeIndex: 336950 entries, 0 to 336949\n",
      "Data columns (total 12 columns):\n",
      " #   Column     Non-Null Count   Dtype  \n",
      "---  ------     --------------   -----  \n",
      " 0   JOBID      336950 non-null  object \n",
      " 1   ACCOUNT    336950 non-null  object \n",
      " 2   USER       336950 non-null  object \n",
      " 3   USEDMEM    336950 non-null  float64\n",
      " 4   REQTIME    336950 non-null  object \n",
      " 5   USEDTIME   336950 non-null  object \n",
      " 6   NODES      336950 non-null  int64  \n",
      " 7   CPUS       336950 non-null  int64  \n",
      " 8   GPUS       336950 non-null  int64  \n",
      " 9   PARTITION  336950 non-null  object \n",
      " 10  EXITCODE   336950 non-null  object \n",
      " 11  STATE      336950 non-null  object \n",
      "dtypes: float64(1), int64(3), object(8)\n",
      "memory usage: 30.8+ MB\n"
     ]
    }
   ],
   "source": [
    "ACCRE.info()"
   ]
  },
  {
   "cell_type": "code",
   "execution_count": 25,
   "id": "db9f85a1",
   "metadata": {},
   "outputs": [
    {
     "data": {
      "text/plain": [
       "array(['COMPLETED', 'CANCELLED by 9201', 'CANCELLED by 859023',\n",
       "       'CANCELLED by 153500', 'CANCELLED by 168618',\n",
       "       'CANCELLED by 888717', 'FAILED', 'CANCELLED by 859269',\n",
       "       'CANCELLED by 756088', 'CANCELLED by 887337',\n",
       "       'CANCELLED by 858683', 'CANCELLED', 'CANCELLED by 885613',\n",
       "       'CANCELLED by 342288', 'CANCELLED by 855431',\n",
       "       'CANCELLED by 491383', 'CANCELLED by 776393',\n",
       "       'CANCELLED by 844796', 'CANCELLED by 780767',\n",
       "       'CANCELLED by 505355', 'CANCELLED by 649321',\n",
       "       'CANCELLED by 890189', 'CANCELLED by 59229', 'CANCELLED by 649319',\n",
       "       'CANCELLED by 590520', 'CANCELLED by 478095',\n",
       "       'CANCELLED by 196703', 'CANCELLED by 308082',\n",
       "       'CANCELLED by 757496', 'CANCELLED by 454080',\n",
       "       'CANCELLED by 512947', 'CANCELLED by 762866',\n",
       "       'CANCELLED by 859465', 'CANCELLED by 161909',\n",
       "       'CANCELLED by 785491', 'CANCELLED by 90423', 'CANCELLED by 159541',\n",
       "       'CANCELLED by 859439', 'CANCELLED by 349259',\n",
       "       'CANCELLED by 854809', 'CANCELLED by 788885',\n",
       "       'CANCELLED by 352520', 'CANCELLED by 891959',\n",
       "       'CANCELLED by 133418', 'CANCELLED by 899293',\n",
       "       'CANCELLED by 793749', 'CANCELLED by 895279',\n",
       "       'CANCELLED by 891353', 'CANCELLED by 877653',\n",
       "       'CANCELLED by 891185', 'CANCELLED by 892663',\n",
       "       'CANCELLED by 855879', 'CANCELLED by 889363',\n",
       "       'CANCELLED by 174423', 'CANCELLED by 353986',\n",
       "       'CANCELLED by 879523', 'CANCELLED by 856815',\n",
       "       'CANCELLED by 765671', 'CANCELLED by 887851',\n",
       "       'CANCELLED by 765335', 'CANCELLED by 889839',\n",
       "       'CANCELLED by 891307', 'CANCELLED by 901239',\n",
       "       'CANCELLED by 897787', 'CANCELLED by 654501',\n",
       "       'CANCELLED by 895635', 'CANCELLED by 0', 'CANCELLED by 859303',\n",
       "       'CANCELLED by 19853', 'CANCELLED by 46207', 'CANCELLED by 855349',\n",
       "       'CANCELLED by 879907', 'CANCELLED by 787173',\n",
       "       'CANCELLED by 885837', 'CANCELLED by 913169',\n",
       "       'CANCELLED by 784871', 'CANCELLED by 891323',\n",
       "       'CANCELLED by 171822', 'CANCELLED by 784793',\n",
       "       'CANCELLED by 892269', 'CANCELLED by 888529',\n",
       "       'CANCELLED by 856077', 'CANCELLED by 777651',\n",
       "       'CANCELLED by 111694', 'CANCELLED by 766842', 'RUNNING',\n",
       "       'CANCELLED by 154476', 'PENDING', 'CANCELLED by 890725',\n",
       "       'CANCELLED by 786713', 'CANCELLED by 796815',\n",
       "       'CANCELLED by 762584', 'CANCELLED by 646120',\n",
       "       'CANCELLED by 778999', 'OUT_OF_MEMORY', 'CANCELLED by 767350',\n",
       "       'CANCELLED by 910235', 'CANCELLED by 899035'], dtype=object)"
      ]
     },
     "execution_count": 25,
     "metadata": {},
     "output_type": "execute_result"
    }
   ],
   "source": [
    "ACCRE['STATE'].unique()"
   ]
  },
  {
   "cell_type": "code",
   "execution_count": 28,
   "id": "a523d9b0",
   "metadata": {},
   "outputs": [
    {
     "data": {
      "text/plain": [
       "array(['0:0', '127:0', '0:2', '1:0', '0:15', '0:9', '2:0', '0:6', '7:0',\n",
       "       '126:0', '33:0', '13:0', '16:0', '0:125', '9:0', '0:7'],\n",
       "      dtype=object)"
      ]
     },
     "execution_count": 28,
     "metadata": {},
     "output_type": "execute_result"
    }
   ],
   "source": [
    "ACCRE['EXITCODE'].unique()"
   ]
  },
  {
   "cell_type": "code",
   "execution_count": null,
   "id": "8de98b54",
   "metadata": {},
   "outputs": [],
   "source": []
  }
 ],
 "metadata": {
  "kernelspec": {
   "display_name": "Python 3 (ipykernel)",
   "language": "python",
   "name": "python3"
  },
  "language_info": {
   "codemirror_mode": {
    "name": "ipython",
    "version": 3
   },
   "file_extension": ".py",
   "mimetype": "text/x-python",
   "name": "python",
   "nbconvert_exporter": "python",
   "pygments_lexer": "ipython3",
   "version": "3.9.12"
  }
 },
 "nbformat": 4,
 "nbformat_minor": 5
}
