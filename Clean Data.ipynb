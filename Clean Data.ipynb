{
 "cells": [
  {
   "cell_type": "markdown",
   "id": "c5411215",
   "metadata": {
    "id": "c5411215"
   },
   "source": [
    "# The Advanced Computing Center for Research and Education\n",
    "\n",
    "The Advanced Computing Center for Research and Education (ACCRE) is a computer cluster serving the high-performance computing needs of research for Vanderbilt University. In this data question, you will be analyzing data on jobs run on ACCRE's hardware.\n",
    "\n",
    "The computing resources in the ACCRE cluster are divided into nodes. Each node is equipped with some number of CPUs, and some of the nodes contain GPUs (graphical processing units). You have been provided a dataset, accre-gpu-jobs-2022.csv, which contains information on jobs submitted to ACCRE's GPU partitions. Traditionally GPUs were designed to power video games to perform calculations quickly. Because of the nature of their design, GPUs are being used more and more for non-graphics applications as well (e.g. for deep learning applications, molecular dynamics, image processing, and much more).\n",
    "\n",
    "Recently, more researchers are performing work that requires GPU acceleration. Your task in this project is to analyze the GPU jobs that have been run on ACCRE over the last few years in order to better understand what needs to be provisioned moving forward.\n",
    "\n",
    "ACCRE has three scheduler partitions that groups can get access to which consist of machines each with 4 GPU cards. Each partition is named after the nvidia processor generation that it contains, from oldest to newest: maxwell, pascal, and turing. GPU nodes are requested per-GPU, and users can request up to 4 GPUs per node. For each GPU the user is allocated up to one quarter of the machine's RAM and CPU cores. All of the current GPU-accelerated hardware is also connected to a special high-speed RoCE (RDMA over converged ethernet) network allowing for memory sharing on large-scale multi-GPU jobs, so users can also request multiple servers for analysis that requires more than four GPU cards."
   ]
  },
  {
   "cell_type": "markdown",
   "id": "92d4f733",
   "metadata": {
    "id": "92d4f733"
   },
   "source": [
    "# The main objectives of this project are to examine the following questions:\n",
    "\n",
    "### What is the distribution of per-GPU main memory usage over all runtime-weighed jobs in each partition? Knowing this will help ACCRE to understand our users memory needs for future hardware purchases.\n",
    "\n",
    "### What is the distribution of the number of GPUs in each job (runtime-weighted) for each partition? What fraction of runtime-weighted and GPU-weighted jobs are using more than 4 GPUs and thus probably using the RoCE networking? Is this fraction different for each partition?\n",
    "\n",
    "### What is the total runtime usage per-gpu (i.e. multiply runtime by the number of gpus) in each of the 3 partitions over the last year?\n",
    "\n",
    "### What is the distribution of different groups and users accessing each partition? In each partition, who are the top users, and do they represent a majority of the runtime-weighted jobs on the partition?\n",
    "\n",
    "### Currently there is a 5 day limit on runtime for GPU jobs, although some users have been asking for extensions. What is the distribution of requested runtime and actual runtime on jobs on each partition? Do users really need more time, or are they simply always requesting the maximum? "
   ]
  },
  {
   "cell_type": "markdown",
   "id": "d2d52cd5",
   "metadata": {},
   "source": [
    "## TWIX - Assigned questions 3 & 5"
   ]
  },
  {
   "cell_type": "code",
   "execution_count": 3,
   "id": "4f55248c",
   "metadata": {
    "id": "4f55248c"
   },
   "outputs": [],
   "source": [
    "import pandas as pd\n",
    "import seaborn as sns\n",
    "import numpy as np\n",
    "from datetime import datetime\n",
    "from matplotlib import pyplot as plt"
   ]
  },
  {
   "cell_type": "code",
   "execution_count": 4,
   "id": "f03c2169",
   "metadata": {
    "colab": {
     "base_uri": "https://localhost:8080/",
     "height": 452
    },
    "id": "f03c2169",
    "outputId": "21ffda64-2bc4-44d0-d385-a35cf5ca4091"
   },
   "outputs": [
    {
     "name": "stderr",
     "output_type": "stream",
     "text": [
      "/opt/anaconda3/lib/python3.9/site-packages/IPython/core/interactiveshell.py:3444: FutureWarning: The error_bad_lines argument has been deprecated and will be removed in a future version.\n",
      "\n",
      "\n",
      "  exec(code_obj, self.user_global_ns, self.user_ns)\n",
      "b'Skipping line 124084: expected 12 fields, saw 13\\nSkipping line 124809: expected 12 fields, saw 13\\n'\n"
     ]
    },
    {
     "data": {
      "text/html": [
       "<div>\n",
       "<style scoped>\n",
       "    .dataframe tbody tr th:only-of-type {\n",
       "        vertical-align: middle;\n",
       "    }\n",
       "\n",
       "    .dataframe tbody tr th {\n",
       "        vertical-align: top;\n",
       "    }\n",
       "\n",
       "    .dataframe thead th {\n",
       "        text-align: right;\n",
       "    }\n",
       "</style>\n",
       "<table border=\"1\" class=\"dataframe\">\n",
       "  <thead>\n",
       "    <tr style=\"text-align: right;\">\n",
       "      <th></th>\n",
       "      <th>JOBID</th>\n",
       "      <th>ACCOUNT</th>\n",
       "      <th>USER</th>\n",
       "      <th>USEDMEM</th>\n",
       "      <th>REQTIME</th>\n",
       "      <th>USEDTIME</th>\n",
       "      <th>NODES</th>\n",
       "      <th>CPUS</th>\n",
       "      <th>GPUS</th>\n",
       "      <th>PARTITION</th>\n",
       "      <th>EXITCODE</th>\n",
       "      <th>STATE</th>\n",
       "    </tr>\n",
       "  </thead>\n",
       "  <tbody>\n",
       "    <tr>\n",
       "      <th>0</th>\n",
       "      <td>32880657</td>\n",
       "      <td>malanga</td>\n",
       "      <td>arline</td>\n",
       "      <td>18.66M</td>\n",
       "      <td>2-00:00:00</td>\n",
       "      <td>00:13:13</td>\n",
       "      <td>1</td>\n",
       "      <td>2</td>\n",
       "      <td>1</td>\n",
       "      <td>pascal</td>\n",
       "      <td>0:0</td>\n",
       "      <td>COMPLETED</td>\n",
       "    </tr>\n",
       "    <tr>\n",
       "      <th>1</th>\n",
       "      <td>32880701</td>\n",
       "      <td>glasshouse</td>\n",
       "      <td>brady</td>\n",
       "      <td>0</td>\n",
       "      <td>05:00:00</td>\n",
       "      <td>00:00:22</td>\n",
       "      <td>1</td>\n",
       "      <td>3</td>\n",
       "      <td>1</td>\n",
       "      <td>maxwell</td>\n",
       "      <td>0:0</td>\n",
       "      <td>COMPLETED</td>\n",
       "    </tr>\n",
       "    <tr>\n",
       "      <th>2</th>\n",
       "      <td>32880718</td>\n",
       "      <td>glasshouse</td>\n",
       "      <td>brady</td>\n",
       "      <td>402.32M</td>\n",
       "      <td>05:00:00</td>\n",
       "      <td>00:08:57</td>\n",
       "      <td>1</td>\n",
       "      <td>3</td>\n",
       "      <td>1</td>\n",
       "      <td>maxwell</td>\n",
       "      <td>0:0</td>\n",
       "      <td>COMPLETED</td>\n",
       "    </tr>\n",
       "    <tr>\n",
       "      <th>3</th>\n",
       "      <td>32880719</td>\n",
       "      <td>glasshouse</td>\n",
       "      <td>brady</td>\n",
       "      <td>417.62M</td>\n",
       "      <td>20:00:00</td>\n",
       "      <td>05:09:46</td>\n",
       "      <td>1</td>\n",
       "      <td>1</td>\n",
       "      <td>1</td>\n",
       "      <td>pascal</td>\n",
       "      <td>0:0</td>\n",
       "      <td>COMPLETED</td>\n",
       "    </tr>\n",
       "    <tr>\n",
       "      <th>4</th>\n",
       "      <td>32880720</td>\n",
       "      <td>glasshouse</td>\n",
       "      <td>brady</td>\n",
       "      <td>450.09M</td>\n",
       "      <td>15:00:00</td>\n",
       "      <td>04:11:10</td>\n",
       "      <td>1</td>\n",
       "      <td>1</td>\n",
       "      <td>1</td>\n",
       "      <td>pascal</td>\n",
       "      <td>0:0</td>\n",
       "      <td>COMPLETED</td>\n",
       "    </tr>\n",
       "    <tr>\n",
       "      <th>...</th>\n",
       "      <td>...</td>\n",
       "      <td>...</td>\n",
       "      <td>...</td>\n",
       "      <td>...</td>\n",
       "      <td>...</td>\n",
       "      <td>...</td>\n",
       "      <td>...</td>\n",
       "      <td>...</td>\n",
       "      <td>...</td>\n",
       "      <td>...</td>\n",
       "      <td>...</td>\n",
       "      <td>...</td>\n",
       "    </tr>\n",
       "    <tr>\n",
       "      <th>336945</th>\n",
       "      <td>46754520_26</td>\n",
       "      <td>harovin</td>\n",
       "      <td>porsha</td>\n",
       "      <td>0</td>\n",
       "      <td>5-00:00:00</td>\n",
       "      <td>00:07:07</td>\n",
       "      <td>1</td>\n",
       "      <td>6</td>\n",
       "      <td>1</td>\n",
       "      <td>turing</td>\n",
       "      <td>0:0</td>\n",
       "      <td>RUNNING</td>\n",
       "    </tr>\n",
       "    <tr>\n",
       "      <th>336946</th>\n",
       "      <td>46754542</td>\n",
       "      <td>malanga</td>\n",
       "      <td>arline</td>\n",
       "      <td>0</td>\n",
       "      <td>2-00:00:00</td>\n",
       "      <td>00:00:00</td>\n",
       "      <td>0</td>\n",
       "      <td>2</td>\n",
       "      <td>1</td>\n",
       "      <td>pascal</td>\n",
       "      <td>0:0</td>\n",
       "      <td>PENDING</td>\n",
       "    </tr>\n",
       "    <tr>\n",
       "      <th>336947</th>\n",
       "      <td>46754560</td>\n",
       "      <td>malanga</td>\n",
       "      <td>arline</td>\n",
       "      <td>0</td>\n",
       "      <td>2-00:00:00</td>\n",
       "      <td>00:00:00</td>\n",
       "      <td>0</td>\n",
       "      <td>2</td>\n",
       "      <td>1</td>\n",
       "      <td>pascal</td>\n",
       "      <td>0:0</td>\n",
       "      <td>PENDING</td>\n",
       "    </tr>\n",
       "    <tr>\n",
       "      <th>336948</th>\n",
       "      <td>46754598</td>\n",
       "      <td>glasshouse</td>\n",
       "      <td>treva</td>\n",
       "      <td>145.24M</td>\n",
       "      <td>1-00:00:00</td>\n",
       "      <td>00:01:26</td>\n",
       "      <td>1</td>\n",
       "      <td>5</td>\n",
       "      <td>1</td>\n",
       "      <td>turing</td>\n",
       "      <td>0:0</td>\n",
       "      <td>COMPLETED</td>\n",
       "    </tr>\n",
       "    <tr>\n",
       "      <th>336949</th>\n",
       "      <td>46754618</td>\n",
       "      <td>malanga</td>\n",
       "      <td>arline</td>\n",
       "      <td>0</td>\n",
       "      <td>2-00:00:00</td>\n",
       "      <td>00:00:00</td>\n",
       "      <td>0</td>\n",
       "      <td>2</td>\n",
       "      <td>1</td>\n",
       "      <td>pascal</td>\n",
       "      <td>0:0</td>\n",
       "      <td>PENDING</td>\n",
       "    </tr>\n",
       "  </tbody>\n",
       "</table>\n",
       "<p>336950 rows × 12 columns</p>\n",
       "</div>"
      ],
      "text/plain": [
       "              JOBID     ACCOUNT    USER  USEDMEM     REQTIME  USEDTIME  NODES  \\\n",
       "0          32880657     malanga  arline   18.66M  2-00:00:00  00:13:13      1   \n",
       "1          32880701  glasshouse   brady        0    05:00:00  00:00:22      1   \n",
       "2          32880718  glasshouse   brady  402.32M    05:00:00  00:08:57      1   \n",
       "3          32880719  glasshouse   brady  417.62M    20:00:00  05:09:46      1   \n",
       "4          32880720  glasshouse   brady  450.09M    15:00:00  04:11:10      1   \n",
       "...             ...         ...     ...      ...         ...       ...    ...   \n",
       "336945  46754520_26     harovin  porsha        0  5-00:00:00  00:07:07      1   \n",
       "336946     46754542     malanga  arline        0  2-00:00:00  00:00:00      0   \n",
       "336947     46754560     malanga  arline        0  2-00:00:00  00:00:00      0   \n",
       "336948     46754598  glasshouse   treva  145.24M  1-00:00:00  00:01:26      1   \n",
       "336949     46754618     malanga  arline        0  2-00:00:00  00:00:00      0   \n",
       "\n",
       "        CPUS  GPUS PARTITION EXITCODE      STATE  \n",
       "0          2     1    pascal      0:0  COMPLETED  \n",
       "1          3     1   maxwell      0:0  COMPLETED  \n",
       "2          3     1   maxwell      0:0  COMPLETED  \n",
       "3          1     1    pascal      0:0  COMPLETED  \n",
       "4          1     1    pascal      0:0  COMPLETED  \n",
       "...      ...   ...       ...      ...        ...  \n",
       "336945     6     1    turing      0:0    RUNNING  \n",
       "336946     2     1    pascal      0:0    PENDING  \n",
       "336947     2     1    pascal      0:0    PENDING  \n",
       "336948     5     1    turing      0:0  COMPLETED  \n",
       "336949     2     1    pascal      0:0    PENDING  \n",
       "\n",
       "[336950 rows x 12 columns]"
      ]
     },
     "execution_count": 4,
     "metadata": {},
     "output_type": "execute_result"
    }
   ],
   "source": [
    "df = pd.read_csv('accre-gpu-jobs-2022-v2.csv', error_bad_lines=False)\n",
    "df"
   ]
  },
  {
   "cell_type": "code",
   "execution_count": 5,
   "id": "75edafb2",
   "metadata": {},
   "outputs": [
    {
     "data": {
      "text/html": [
       "<div>\n",
       "<style scoped>\n",
       "    .dataframe tbody tr th:only-of-type {\n",
       "        vertical-align: middle;\n",
       "    }\n",
       "\n",
       "    .dataframe tbody tr th {\n",
       "        vertical-align: top;\n",
       "    }\n",
       "\n",
       "    .dataframe thead th {\n",
       "        text-align: right;\n",
       "    }\n",
       "</style>\n",
       "<table border=\"1\" class=\"dataframe\">\n",
       "  <thead>\n",
       "    <tr style=\"text-align: right;\">\n",
       "      <th></th>\n",
       "      <th>JOBID</th>\n",
       "      <th>ACCOUNT</th>\n",
       "      <th>USER</th>\n",
       "      <th>USEDMEM</th>\n",
       "      <th>REQTIME</th>\n",
       "      <th>USEDTIME</th>\n",
       "      <th>NODES</th>\n",
       "      <th>CPUS</th>\n",
       "      <th>GPUS</th>\n",
       "      <th>PARTITION</th>\n",
       "      <th>EXITCODE</th>\n",
       "      <th>STATE</th>\n",
       "    </tr>\n",
       "  </thead>\n",
       "  <tbody>\n",
       "    <tr>\n",
       "      <th>0</th>\n",
       "      <td>32880657</td>\n",
       "      <td>malanga</td>\n",
       "      <td>arline</td>\n",
       "      <td>18.66</td>\n",
       "      <td>2-00:00:00</td>\n",
       "      <td>00:13:13</td>\n",
       "      <td>1</td>\n",
       "      <td>2</td>\n",
       "      <td>1</td>\n",
       "      <td>pascal</td>\n",
       "      <td>0:0</td>\n",
       "      <td>COMPLETED</td>\n",
       "    </tr>\n",
       "    <tr>\n",
       "      <th>1</th>\n",
       "      <td>32880701</td>\n",
       "      <td>glasshouse</td>\n",
       "      <td>brady</td>\n",
       "      <td>0.00</td>\n",
       "      <td>05:00:00</td>\n",
       "      <td>00:00:22</td>\n",
       "      <td>1</td>\n",
       "      <td>3</td>\n",
       "      <td>1</td>\n",
       "      <td>maxwell</td>\n",
       "      <td>0:0</td>\n",
       "      <td>COMPLETED</td>\n",
       "    </tr>\n",
       "    <tr>\n",
       "      <th>2</th>\n",
       "      <td>32880718</td>\n",
       "      <td>glasshouse</td>\n",
       "      <td>brady</td>\n",
       "      <td>402.32</td>\n",
       "      <td>05:00:00</td>\n",
       "      <td>00:08:57</td>\n",
       "      <td>1</td>\n",
       "      <td>3</td>\n",
       "      <td>1</td>\n",
       "      <td>maxwell</td>\n",
       "      <td>0:0</td>\n",
       "      <td>COMPLETED</td>\n",
       "    </tr>\n",
       "    <tr>\n",
       "      <th>3</th>\n",
       "      <td>32880719</td>\n",
       "      <td>glasshouse</td>\n",
       "      <td>brady</td>\n",
       "      <td>417.62</td>\n",
       "      <td>20:00:00</td>\n",
       "      <td>05:09:46</td>\n",
       "      <td>1</td>\n",
       "      <td>1</td>\n",
       "      <td>1</td>\n",
       "      <td>pascal</td>\n",
       "      <td>0:0</td>\n",
       "      <td>COMPLETED</td>\n",
       "    </tr>\n",
       "    <tr>\n",
       "      <th>4</th>\n",
       "      <td>32880720</td>\n",
       "      <td>glasshouse</td>\n",
       "      <td>brady</td>\n",
       "      <td>450.09</td>\n",
       "      <td>15:00:00</td>\n",
       "      <td>04:11:10</td>\n",
       "      <td>1</td>\n",
       "      <td>1</td>\n",
       "      <td>1</td>\n",
       "      <td>pascal</td>\n",
       "      <td>0:0</td>\n",
       "      <td>COMPLETED</td>\n",
       "    </tr>\n",
       "    <tr>\n",
       "      <th>...</th>\n",
       "      <td>...</td>\n",
       "      <td>...</td>\n",
       "      <td>...</td>\n",
       "      <td>...</td>\n",
       "      <td>...</td>\n",
       "      <td>...</td>\n",
       "      <td>...</td>\n",
       "      <td>...</td>\n",
       "      <td>...</td>\n",
       "      <td>...</td>\n",
       "      <td>...</td>\n",
       "      <td>...</td>\n",
       "    </tr>\n",
       "    <tr>\n",
       "      <th>336933</th>\n",
       "      <td>46753813</td>\n",
       "      <td>harovin</td>\n",
       "      <td>shannon</td>\n",
       "      <td>137.96</td>\n",
       "      <td>5-00:00:00</td>\n",
       "      <td>00:00:52</td>\n",
       "      <td>1</td>\n",
       "      <td>1</td>\n",
       "      <td>1</td>\n",
       "      <td>turing</td>\n",
       "      <td>0:0</td>\n",
       "      <td>COMPLETED</td>\n",
       "    </tr>\n",
       "    <tr>\n",
       "      <th>336934</th>\n",
       "      <td>46753820_26</td>\n",
       "      <td>harovin</td>\n",
       "      <td>porsha</td>\n",
       "      <td>5093.70</td>\n",
       "      <td>5-00:00:00</td>\n",
       "      <td>00:34:51</td>\n",
       "      <td>1</td>\n",
       "      <td>6</td>\n",
       "      <td>1</td>\n",
       "      <td>turing</td>\n",
       "      <td>0:0</td>\n",
       "      <td>COMPLETED</td>\n",
       "    </tr>\n",
       "    <tr>\n",
       "      <th>336936</th>\n",
       "      <td>46753823</td>\n",
       "      <td>harovin</td>\n",
       "      <td>shannon</td>\n",
       "      <td>156.21</td>\n",
       "      <td>5-00:00:00</td>\n",
       "      <td>00:04:03</td>\n",
       "      <td>1</td>\n",
       "      <td>1</td>\n",
       "      <td>1</td>\n",
       "      <td>turing</td>\n",
       "      <td>0:0</td>\n",
       "      <td>COMPLETED</td>\n",
       "    </tr>\n",
       "    <tr>\n",
       "      <th>336942</th>\n",
       "      <td>46754095</td>\n",
       "      <td>harovin</td>\n",
       "      <td>shannon</td>\n",
       "      <td>2820.52</td>\n",
       "      <td>5-00:00:00</td>\n",
       "      <td>00:11:13</td>\n",
       "      <td>1</td>\n",
       "      <td>1</td>\n",
       "      <td>1</td>\n",
       "      <td>turing</td>\n",
       "      <td>0:0</td>\n",
       "      <td>COMPLETED</td>\n",
       "    </tr>\n",
       "    <tr>\n",
       "      <th>336948</th>\n",
       "      <td>46754598</td>\n",
       "      <td>glasshouse</td>\n",
       "      <td>treva</td>\n",
       "      <td>145.24</td>\n",
       "      <td>1-00:00:00</td>\n",
       "      <td>00:01:26</td>\n",
       "      <td>1</td>\n",
       "      <td>5</td>\n",
       "      <td>1</td>\n",
       "      <td>turing</td>\n",
       "      <td>0:0</td>\n",
       "      <td>COMPLETED</td>\n",
       "    </tr>\n",
       "  </tbody>\n",
       "</table>\n",
       "<p>283333 rows × 12 columns</p>\n",
       "</div>"
      ],
      "text/plain": [
       "              JOBID     ACCOUNT     USER  USEDMEM     REQTIME  USEDTIME  \\\n",
       "0          32880657     malanga   arline    18.66  2-00:00:00  00:13:13   \n",
       "1          32880701  glasshouse    brady     0.00    05:00:00  00:00:22   \n",
       "2          32880718  glasshouse    brady   402.32    05:00:00  00:08:57   \n",
       "3          32880719  glasshouse    brady   417.62    20:00:00  05:09:46   \n",
       "4          32880720  glasshouse    brady   450.09    15:00:00  04:11:10   \n",
       "...             ...         ...      ...      ...         ...       ...   \n",
       "336933     46753813     harovin  shannon   137.96  5-00:00:00  00:00:52   \n",
       "336934  46753820_26     harovin   porsha  5093.70  5-00:00:00  00:34:51   \n",
       "336936     46753823     harovin  shannon   156.21  5-00:00:00  00:04:03   \n",
       "336942     46754095     harovin  shannon  2820.52  5-00:00:00  00:11:13   \n",
       "336948     46754598  glasshouse    treva   145.24  1-00:00:00  00:01:26   \n",
       "\n",
       "        NODES  CPUS  GPUS PARTITION EXITCODE      STATE  \n",
       "0           1     2     1    pascal      0:0  COMPLETED  \n",
       "1           1     3     1   maxwell      0:0  COMPLETED  \n",
       "2           1     3     1   maxwell      0:0  COMPLETED  \n",
       "3           1     1     1    pascal      0:0  COMPLETED  \n",
       "4           1     1     1    pascal      0:0  COMPLETED  \n",
       "...       ...   ...   ...       ...      ...        ...  \n",
       "336933      1     1     1    turing      0:0  COMPLETED  \n",
       "336934      1     6     1    turing      0:0  COMPLETED  \n",
       "336936      1     1     1    turing      0:0  COMPLETED  \n",
       "336942      1     1     1    turing      0:0  COMPLETED  \n",
       "336948      1     5     1    turing      0:0  COMPLETED  \n",
       "\n",
       "[283333 rows x 12 columns]"
      ]
     },
     "execution_count": 5,
     "metadata": {},
     "output_type": "execute_result"
    }
   ],
   "source": [
    "completed = df[df['STATE'] == 'COMPLETED'].replace({'USEDMEM': r'[M]+'}, {'USEDMEM': ''}, regex=True)\n",
    "completed['USEDMEM'] = completed['USEDMEM'].astype(float)\n",
    "completed"
   ]
  },
  {
   "cell_type": "code",
   "execution_count": 6,
   "id": "pVCrwbujpnk8",
   "metadata": {
    "id": "pVCrwbujpnk8"
   },
   "outputs": [],
   "source": [
    "def time_to_hours(col): # Where col is a series gotten from the dataframe\n",
    "\n",
    "    # Each row in USEDTIME/REQTIME is of the format:\n",
    "    # Days-H:M:S\n",
    "    # So we should be able to just take every value and convert them to seconds, then convert that final number to hours\n",
    "\n",
    "    output_col = []\n",
    "    for item in col:\n",
    "        total_seconds = 0\n",
    "        # item should be a string, ie 2-10:19:00\n",
    "        # Split based on the :\n",
    "        values = item.split(\":\")\n",
    "\n",
    "        # Using the example 2-10:19:00\n",
    "        total_seconds += float(values[2])       # 00\n",
    "        total_seconds += float(values[1]) * 60  # 19\n",
    "\n",
    "        # We can't just add values[0] because there's a chance it has a day attached to it\n",
    "        # So values[0] may actually \"2-10\"\n",
    "        if \"-\" in values[0]:\n",
    "            day_split = values[0].split(\"-\")\n",
    "            total_seconds += float(day_split[1]) * 60 * 60      # 10\n",
    "            total_seconds += float(day_split[0]) * 60 * 60 * 24 # 2\n",
    "        else:\n",
    "            total_seconds += float(values[0]) * 60 * 60         # 10\n",
    "\n",
    "        # Convert seconds to hours\n",
    "        total_hours = total_seconds / 60 / 60\n",
    "        output_col.append(total_hours)\n",
    "    return output_col\n"
   ]
  },
  {
   "cell_type": "code",
   "execution_count": 7,
   "id": "HT_1n_ZqrB0g",
   "metadata": {
    "colab": {
     "base_uri": "https://localhost:8080/"
    },
    "id": "HT_1n_ZqrB0g",
    "outputId": "cf68dff8-73c4-478c-9796-a6910eac1bdf"
   },
   "outputs": [
    {
     "data": {
      "text/plain": [
       "[48.0, 5.0, 5.0, 20.0, 15.0, 84.0, 84.0, 48.0, 96.0, 96.0]"
      ]
     },
     "execution_count": 7,
     "metadata": {},
     "output_type": "execute_result"
    }
   ],
   "source": [
    "# print first 10 items\n",
    "time_to_hours(completed[\"REQTIME\"])[:10]"
   ]
  },
  {
   "cell_type": "code",
   "execution_count": 8,
   "id": "crVjpK8stz1T",
   "metadata": {
    "id": "crVjpK8stz1T"
   },
   "outputs": [],
   "source": [
    "# If you run this cell more than once you'll get an error - this means the column was already converted\n",
    "# Just reset the completed df by running the code above that defines completed\n",
    "\n",
    "completed[\"REQTIME\"] = time_to_hours(completed[\"REQTIME\"])\n",
    "completed[\"USEDTIME\"] = time_to_hours(completed[\"USEDTIME\"])"
   ]
  },
  {
   "cell_type": "code",
   "execution_count": 9,
   "id": "KIZIvaGlt8bQ",
   "metadata": {
    "colab": {
     "base_uri": "https://localhost:8080/",
     "height": 424
    },
    "id": "KIZIvaGlt8bQ",
    "outputId": "dc8b7dd7-8a67-4fbf-ffa4-ae5206e7becb"
   },
   "outputs": [
    {
     "data": {
      "text/html": [
       "<div>\n",
       "<style scoped>\n",
       "    .dataframe tbody tr th:only-of-type {\n",
       "        vertical-align: middle;\n",
       "    }\n",
       "\n",
       "    .dataframe tbody tr th {\n",
       "        vertical-align: top;\n",
       "    }\n",
       "\n",
       "    .dataframe thead th {\n",
       "        text-align: right;\n",
       "    }\n",
       "</style>\n",
       "<table border=\"1\" class=\"dataframe\">\n",
       "  <thead>\n",
       "    <tr style=\"text-align: right;\">\n",
       "      <th></th>\n",
       "      <th>JOBID</th>\n",
       "      <th>ACCOUNT</th>\n",
       "      <th>USER</th>\n",
       "      <th>USEDMEM</th>\n",
       "      <th>REQTIME</th>\n",
       "      <th>USEDTIME</th>\n",
       "      <th>NODES</th>\n",
       "      <th>CPUS</th>\n",
       "      <th>GPUS</th>\n",
       "      <th>PARTITION</th>\n",
       "      <th>EXITCODE</th>\n",
       "      <th>STATE</th>\n",
       "    </tr>\n",
       "  </thead>\n",
       "  <tbody>\n",
       "    <tr>\n",
       "      <th>0</th>\n",
       "      <td>32880657</td>\n",
       "      <td>malanga</td>\n",
       "      <td>arline</td>\n",
       "      <td>18.66</td>\n",
       "      <td>48.0</td>\n",
       "      <td>0.220278</td>\n",
       "      <td>1</td>\n",
       "      <td>2</td>\n",
       "      <td>1</td>\n",
       "      <td>pascal</td>\n",
       "      <td>0:0</td>\n",
       "      <td>COMPLETED</td>\n",
       "    </tr>\n",
       "    <tr>\n",
       "      <th>1</th>\n",
       "      <td>32880701</td>\n",
       "      <td>glasshouse</td>\n",
       "      <td>brady</td>\n",
       "      <td>0.00</td>\n",
       "      <td>5.0</td>\n",
       "      <td>0.006111</td>\n",
       "      <td>1</td>\n",
       "      <td>3</td>\n",
       "      <td>1</td>\n",
       "      <td>maxwell</td>\n",
       "      <td>0:0</td>\n",
       "      <td>COMPLETED</td>\n",
       "    </tr>\n",
       "    <tr>\n",
       "      <th>2</th>\n",
       "      <td>32880718</td>\n",
       "      <td>glasshouse</td>\n",
       "      <td>brady</td>\n",
       "      <td>402.32</td>\n",
       "      <td>5.0</td>\n",
       "      <td>0.149167</td>\n",
       "      <td>1</td>\n",
       "      <td>3</td>\n",
       "      <td>1</td>\n",
       "      <td>maxwell</td>\n",
       "      <td>0:0</td>\n",
       "      <td>COMPLETED</td>\n",
       "    </tr>\n",
       "    <tr>\n",
       "      <th>3</th>\n",
       "      <td>32880719</td>\n",
       "      <td>glasshouse</td>\n",
       "      <td>brady</td>\n",
       "      <td>417.62</td>\n",
       "      <td>20.0</td>\n",
       "      <td>5.162778</td>\n",
       "      <td>1</td>\n",
       "      <td>1</td>\n",
       "      <td>1</td>\n",
       "      <td>pascal</td>\n",
       "      <td>0:0</td>\n",
       "      <td>COMPLETED</td>\n",
       "    </tr>\n",
       "    <tr>\n",
       "      <th>4</th>\n",
       "      <td>32880720</td>\n",
       "      <td>glasshouse</td>\n",
       "      <td>brady</td>\n",
       "      <td>450.09</td>\n",
       "      <td>15.0</td>\n",
       "      <td>4.186111</td>\n",
       "      <td>1</td>\n",
       "      <td>1</td>\n",
       "      <td>1</td>\n",
       "      <td>pascal</td>\n",
       "      <td>0:0</td>\n",
       "      <td>COMPLETED</td>\n",
       "    </tr>\n",
       "    <tr>\n",
       "      <th>...</th>\n",
       "      <td>...</td>\n",
       "      <td>...</td>\n",
       "      <td>...</td>\n",
       "      <td>...</td>\n",
       "      <td>...</td>\n",
       "      <td>...</td>\n",
       "      <td>...</td>\n",
       "      <td>...</td>\n",
       "      <td>...</td>\n",
       "      <td>...</td>\n",
       "      <td>...</td>\n",
       "      <td>...</td>\n",
       "    </tr>\n",
       "    <tr>\n",
       "      <th>336933</th>\n",
       "      <td>46753813</td>\n",
       "      <td>harovin</td>\n",
       "      <td>shannon</td>\n",
       "      <td>137.96</td>\n",
       "      <td>120.0</td>\n",
       "      <td>0.014444</td>\n",
       "      <td>1</td>\n",
       "      <td>1</td>\n",
       "      <td>1</td>\n",
       "      <td>turing</td>\n",
       "      <td>0:0</td>\n",
       "      <td>COMPLETED</td>\n",
       "    </tr>\n",
       "    <tr>\n",
       "      <th>336934</th>\n",
       "      <td>46753820_26</td>\n",
       "      <td>harovin</td>\n",
       "      <td>porsha</td>\n",
       "      <td>5093.70</td>\n",
       "      <td>120.0</td>\n",
       "      <td>0.580833</td>\n",
       "      <td>1</td>\n",
       "      <td>6</td>\n",
       "      <td>1</td>\n",
       "      <td>turing</td>\n",
       "      <td>0:0</td>\n",
       "      <td>COMPLETED</td>\n",
       "    </tr>\n",
       "    <tr>\n",
       "      <th>336936</th>\n",
       "      <td>46753823</td>\n",
       "      <td>harovin</td>\n",
       "      <td>shannon</td>\n",
       "      <td>156.21</td>\n",
       "      <td>120.0</td>\n",
       "      <td>0.067500</td>\n",
       "      <td>1</td>\n",
       "      <td>1</td>\n",
       "      <td>1</td>\n",
       "      <td>turing</td>\n",
       "      <td>0:0</td>\n",
       "      <td>COMPLETED</td>\n",
       "    </tr>\n",
       "    <tr>\n",
       "      <th>336942</th>\n",
       "      <td>46754095</td>\n",
       "      <td>harovin</td>\n",
       "      <td>shannon</td>\n",
       "      <td>2820.52</td>\n",
       "      <td>120.0</td>\n",
       "      <td>0.186944</td>\n",
       "      <td>1</td>\n",
       "      <td>1</td>\n",
       "      <td>1</td>\n",
       "      <td>turing</td>\n",
       "      <td>0:0</td>\n",
       "      <td>COMPLETED</td>\n",
       "    </tr>\n",
       "    <tr>\n",
       "      <th>336948</th>\n",
       "      <td>46754598</td>\n",
       "      <td>glasshouse</td>\n",
       "      <td>treva</td>\n",
       "      <td>145.24</td>\n",
       "      <td>24.0</td>\n",
       "      <td>0.023889</td>\n",
       "      <td>1</td>\n",
       "      <td>5</td>\n",
       "      <td>1</td>\n",
       "      <td>turing</td>\n",
       "      <td>0:0</td>\n",
       "      <td>COMPLETED</td>\n",
       "    </tr>\n",
       "  </tbody>\n",
       "</table>\n",
       "<p>283333 rows × 12 columns</p>\n",
       "</div>"
      ],
      "text/plain": [
       "              JOBID     ACCOUNT     USER  USEDMEM  REQTIME  USEDTIME  NODES  \\\n",
       "0          32880657     malanga   arline    18.66     48.0  0.220278      1   \n",
       "1          32880701  glasshouse    brady     0.00      5.0  0.006111      1   \n",
       "2          32880718  glasshouse    brady   402.32      5.0  0.149167      1   \n",
       "3          32880719  glasshouse    brady   417.62     20.0  5.162778      1   \n",
       "4          32880720  glasshouse    brady   450.09     15.0  4.186111      1   \n",
       "...             ...         ...      ...      ...      ...       ...    ...   \n",
       "336933     46753813     harovin  shannon   137.96    120.0  0.014444      1   \n",
       "336934  46753820_26     harovin   porsha  5093.70    120.0  0.580833      1   \n",
       "336936     46753823     harovin  shannon   156.21    120.0  0.067500      1   \n",
       "336942     46754095     harovin  shannon  2820.52    120.0  0.186944      1   \n",
       "336948     46754598  glasshouse    treva   145.24     24.0  0.023889      1   \n",
       "\n",
       "        CPUS  GPUS PARTITION EXITCODE      STATE  \n",
       "0          2     1    pascal      0:0  COMPLETED  \n",
       "1          3     1   maxwell      0:0  COMPLETED  \n",
       "2          3     1   maxwell      0:0  COMPLETED  \n",
       "3          1     1    pascal      0:0  COMPLETED  \n",
       "4          1     1    pascal      0:0  COMPLETED  \n",
       "...      ...   ...       ...      ...        ...  \n",
       "336933     1     1    turing      0:0  COMPLETED  \n",
       "336934     6     1    turing      0:0  COMPLETED  \n",
       "336936     1     1    turing      0:0  COMPLETED  \n",
       "336942     1     1    turing      0:0  COMPLETED  \n",
       "336948     5     1    turing      0:0  COMPLETED  \n",
       "\n",
       "[283333 rows x 12 columns]"
      ]
     },
     "execution_count": 9,
     "metadata": {},
     "output_type": "execute_result"
    }
   ],
   "source": [
    "completed"
   ]
  },
  {
   "cell_type": "code",
   "execution_count": 118,
   "id": "434e77c0",
   "metadata": {},
   "outputs": [
    {
     "data": {
      "text/html": [
       "<div>\n",
       "<style scoped>\n",
       "    .dataframe tbody tr th:only-of-type {\n",
       "        vertical-align: middle;\n",
       "    }\n",
       "\n",
       "    .dataframe tbody tr th {\n",
       "        vertical-align: top;\n",
       "    }\n",
       "\n",
       "    .dataframe thead th {\n",
       "        text-align: right;\n",
       "    }\n",
       "</style>\n",
       "<table border=\"1\" class=\"dataframe\">\n",
       "  <thead>\n",
       "    <tr style=\"text-align: right;\">\n",
       "      <th></th>\n",
       "      <th>JOBID</th>\n",
       "      <th>ACCOUNT</th>\n",
       "      <th>USER</th>\n",
       "      <th>USEDMEM</th>\n",
       "      <th>REQTIME</th>\n",
       "      <th>USEDTIME</th>\n",
       "      <th>NODES</th>\n",
       "      <th>CPUS</th>\n",
       "      <th>GPUS</th>\n",
       "      <th>PARTITION</th>\n",
       "      <th>EXITCODE</th>\n",
       "      <th>STATE</th>\n",
       "      <th>TIME_DIFF_HR</th>\n",
       "      <th>USAGE_PER_GPU</th>\n",
       "    </tr>\n",
       "  </thead>\n",
       "  <tbody>\n",
       "    <tr>\n",
       "      <th>0</th>\n",
       "      <td>32880657</td>\n",
       "      <td>malanga</td>\n",
       "      <td>arline</td>\n",
       "      <td>18.66</td>\n",
       "      <td>48.0</td>\n",
       "      <td>0.220278</td>\n",
       "      <td>1</td>\n",
       "      <td>2</td>\n",
       "      <td>1</td>\n",
       "      <td>pascal</td>\n",
       "      <td>0:0</td>\n",
       "      <td>COMPLETED</td>\n",
       "      <td>47.779722</td>\n",
       "      <td>0.220278</td>\n",
       "    </tr>\n",
       "    <tr>\n",
       "      <th>1</th>\n",
       "      <td>32880701</td>\n",
       "      <td>glasshouse</td>\n",
       "      <td>brady</td>\n",
       "      <td>0.00</td>\n",
       "      <td>5.0</td>\n",
       "      <td>0.006111</td>\n",
       "      <td>1</td>\n",
       "      <td>3</td>\n",
       "      <td>1</td>\n",
       "      <td>maxwell</td>\n",
       "      <td>0:0</td>\n",
       "      <td>COMPLETED</td>\n",
       "      <td>4.993889</td>\n",
       "      <td>0.006111</td>\n",
       "    </tr>\n",
       "    <tr>\n",
       "      <th>2</th>\n",
       "      <td>32880718</td>\n",
       "      <td>glasshouse</td>\n",
       "      <td>brady</td>\n",
       "      <td>402.32</td>\n",
       "      <td>5.0</td>\n",
       "      <td>0.149167</td>\n",
       "      <td>1</td>\n",
       "      <td>3</td>\n",
       "      <td>1</td>\n",
       "      <td>maxwell</td>\n",
       "      <td>0:0</td>\n",
       "      <td>COMPLETED</td>\n",
       "      <td>4.850833</td>\n",
       "      <td>0.149167</td>\n",
       "    </tr>\n",
       "    <tr>\n",
       "      <th>3</th>\n",
       "      <td>32880719</td>\n",
       "      <td>glasshouse</td>\n",
       "      <td>brady</td>\n",
       "      <td>417.62</td>\n",
       "      <td>20.0</td>\n",
       "      <td>5.162778</td>\n",
       "      <td>1</td>\n",
       "      <td>1</td>\n",
       "      <td>1</td>\n",
       "      <td>pascal</td>\n",
       "      <td>0:0</td>\n",
       "      <td>COMPLETED</td>\n",
       "      <td>14.837222</td>\n",
       "      <td>5.162778</td>\n",
       "    </tr>\n",
       "    <tr>\n",
       "      <th>4</th>\n",
       "      <td>32880720</td>\n",
       "      <td>glasshouse</td>\n",
       "      <td>brady</td>\n",
       "      <td>450.09</td>\n",
       "      <td>15.0</td>\n",
       "      <td>4.186111</td>\n",
       "      <td>1</td>\n",
       "      <td>1</td>\n",
       "      <td>1</td>\n",
       "      <td>pascal</td>\n",
       "      <td>0:0</td>\n",
       "      <td>COMPLETED</td>\n",
       "      <td>10.813889</td>\n",
       "      <td>4.186111</td>\n",
       "    </tr>\n",
       "    <tr>\n",
       "      <th>...</th>\n",
       "      <td>...</td>\n",
       "      <td>...</td>\n",
       "      <td>...</td>\n",
       "      <td>...</td>\n",
       "      <td>...</td>\n",
       "      <td>...</td>\n",
       "      <td>...</td>\n",
       "      <td>...</td>\n",
       "      <td>...</td>\n",
       "      <td>...</td>\n",
       "      <td>...</td>\n",
       "      <td>...</td>\n",
       "      <td>...</td>\n",
       "      <td>...</td>\n",
       "    </tr>\n",
       "    <tr>\n",
       "      <th>336933</th>\n",
       "      <td>46753813</td>\n",
       "      <td>harovin</td>\n",
       "      <td>shannon</td>\n",
       "      <td>137.96</td>\n",
       "      <td>120.0</td>\n",
       "      <td>0.014444</td>\n",
       "      <td>1</td>\n",
       "      <td>1</td>\n",
       "      <td>1</td>\n",
       "      <td>turing</td>\n",
       "      <td>0:0</td>\n",
       "      <td>COMPLETED</td>\n",
       "      <td>119.985556</td>\n",
       "      <td>0.014444</td>\n",
       "    </tr>\n",
       "    <tr>\n",
       "      <th>336934</th>\n",
       "      <td>46753820_26</td>\n",
       "      <td>harovin</td>\n",
       "      <td>porsha</td>\n",
       "      <td>5093.70</td>\n",
       "      <td>120.0</td>\n",
       "      <td>0.580833</td>\n",
       "      <td>1</td>\n",
       "      <td>6</td>\n",
       "      <td>1</td>\n",
       "      <td>turing</td>\n",
       "      <td>0:0</td>\n",
       "      <td>COMPLETED</td>\n",
       "      <td>119.419167</td>\n",
       "      <td>0.580833</td>\n",
       "    </tr>\n",
       "    <tr>\n",
       "      <th>336936</th>\n",
       "      <td>46753823</td>\n",
       "      <td>harovin</td>\n",
       "      <td>shannon</td>\n",
       "      <td>156.21</td>\n",
       "      <td>120.0</td>\n",
       "      <td>0.067500</td>\n",
       "      <td>1</td>\n",
       "      <td>1</td>\n",
       "      <td>1</td>\n",
       "      <td>turing</td>\n",
       "      <td>0:0</td>\n",
       "      <td>COMPLETED</td>\n",
       "      <td>119.932500</td>\n",
       "      <td>0.067500</td>\n",
       "    </tr>\n",
       "    <tr>\n",
       "      <th>336942</th>\n",
       "      <td>46754095</td>\n",
       "      <td>harovin</td>\n",
       "      <td>shannon</td>\n",
       "      <td>2820.52</td>\n",
       "      <td>120.0</td>\n",
       "      <td>0.186944</td>\n",
       "      <td>1</td>\n",
       "      <td>1</td>\n",
       "      <td>1</td>\n",
       "      <td>turing</td>\n",
       "      <td>0:0</td>\n",
       "      <td>COMPLETED</td>\n",
       "      <td>119.813056</td>\n",
       "      <td>0.186944</td>\n",
       "    </tr>\n",
       "    <tr>\n",
       "      <th>336948</th>\n",
       "      <td>46754598</td>\n",
       "      <td>glasshouse</td>\n",
       "      <td>treva</td>\n",
       "      <td>145.24</td>\n",
       "      <td>24.0</td>\n",
       "      <td>0.023889</td>\n",
       "      <td>1</td>\n",
       "      <td>5</td>\n",
       "      <td>1</td>\n",
       "      <td>turing</td>\n",
       "      <td>0:0</td>\n",
       "      <td>COMPLETED</td>\n",
       "      <td>23.976111</td>\n",
       "      <td>0.023889</td>\n",
       "    </tr>\n",
       "  </tbody>\n",
       "</table>\n",
       "<p>283333 rows × 14 columns</p>\n",
       "</div>"
      ],
      "text/plain": [
       "              JOBID     ACCOUNT     USER  USEDMEM  REQTIME  USEDTIME  NODES  \\\n",
       "0          32880657     malanga   arline    18.66     48.0  0.220278      1   \n",
       "1          32880701  glasshouse    brady     0.00      5.0  0.006111      1   \n",
       "2          32880718  glasshouse    brady   402.32      5.0  0.149167      1   \n",
       "3          32880719  glasshouse    brady   417.62     20.0  5.162778      1   \n",
       "4          32880720  glasshouse    brady   450.09     15.0  4.186111      1   \n",
       "...             ...         ...      ...      ...      ...       ...    ...   \n",
       "336933     46753813     harovin  shannon   137.96    120.0  0.014444      1   \n",
       "336934  46753820_26     harovin   porsha  5093.70    120.0  0.580833      1   \n",
       "336936     46753823     harovin  shannon   156.21    120.0  0.067500      1   \n",
       "336942     46754095     harovin  shannon  2820.52    120.0  0.186944      1   \n",
       "336948     46754598  glasshouse    treva   145.24     24.0  0.023889      1   \n",
       "\n",
       "        CPUS  GPUS PARTITION EXITCODE      STATE  TIME_DIFF_HR  USAGE_PER_GPU  \n",
       "0          2     1    pascal      0:0  COMPLETED     47.779722       0.220278  \n",
       "1          3     1   maxwell      0:0  COMPLETED      4.993889       0.006111  \n",
       "2          3     1   maxwell      0:0  COMPLETED      4.850833       0.149167  \n",
       "3          1     1    pascal      0:0  COMPLETED     14.837222       5.162778  \n",
       "4          1     1    pascal      0:0  COMPLETED     10.813889       4.186111  \n",
       "...      ...   ...       ...      ...        ...           ...            ...  \n",
       "336933     1     1    turing      0:0  COMPLETED    119.985556       0.014444  \n",
       "336934     6     1    turing      0:0  COMPLETED    119.419167       0.580833  \n",
       "336936     1     1    turing      0:0  COMPLETED    119.932500       0.067500  \n",
       "336942     1     1    turing      0:0  COMPLETED    119.813056       0.186944  \n",
       "336948     5     1    turing      0:0  COMPLETED     23.976111       0.023889  \n",
       "\n",
       "[283333 rows x 14 columns]"
      ]
     },
     "execution_count": 118,
     "metadata": {},
     "output_type": "execute_result"
    }
   ],
   "source": [
    "completed['REQTIME'] = completed['REQTIME'].astype(float)\n",
    "completed['USEDTIME'] = completed['USEDTIME'].astype(float)\n",
    "completed['TIME_DIFF_HR'] = completed['REQTIME'] - completed['USEDTIME']\n",
    "completed"
   ]
  },
  {
   "cell_type": "markdown",
   "id": "312eb60f",
   "metadata": {},
   "source": [
    "### What is the distribution of per-GPU main memory usage over all runtime-weighed jobs in each partition? Knowing this will help ACCRE to understand our users memory needs for future hardware purchases."
   ]
  },
  {
   "cell_type": "code",
   "execution_count": 52,
   "id": "e10b1fc1",
   "metadata": {},
   "outputs": [
    {
     "name": "stdout",
     "output_type": "stream",
     "text": [
      "(243555, 14)\n",
      "(7312, 14)\n",
      "(62875, 14)\n"
     ]
    }
   ],
   "source": [
    "completed_5000M_2HR = completed[(completed['USEDMEM']<5000) & (completed['USEDTIME']<2)]\n",
    "completed_outliers = completed[(completed['USEDMEM']>5000) & (completed['USEDTIME']>2)]\n",
    "completed_TIMEDIFF_OVER12HR = completed[completed['TIME_DIFF_HR']>12]\n",
    "print(completed_5000M_2HR.shape)\n",
    "print(completed_outliers.shape)\n",
    "print(completed_TIMEDIFF_OVER12HR.shape)"
   ]
  },
  {
   "cell_type": "code",
   "execution_count": 90,
   "id": "246e9a2b",
   "metadata": {},
   "outputs": [
    {
     "data": {
      "text/plain": [
       "<AxesSubplot:>"
      ]
     },
     "execution_count": 90,
     "metadata": {},
     "output_type": "execute_result"
    },
    {
     "data": {
      "image/png": "[encoded data removed]",
      "text/plain": [
       "<Figure size 432x288 with 1 Axes>"
      ]
     },
     "metadata": {
      "needs_background": "light"
     },
     "output_type": "display_data"
    }
   ],
   "source": [
    "completed['TIME_DIFF_HR'].describe().hist()"
   ]
  },
  {
   "cell_type": "code",
   "execution_count": 54,
   "id": "3b556880",
   "metadata": {},
   "outputs": [
    {
     "data": {
      "text/plain": [
       "count    283333.000000\n",
       "mean         22.527946\n",
       "std          33.752488\n",
       "min         -20.064722\n",
       "25%           5.995000\n",
       "50%           9.951667\n",
       "75%          11.626667\n",
       "max         273.769444\n",
       "Name: TIME_DIFF_HR, dtype: float64"
      ]
     },
     "execution_count": 54,
     "metadata": {},
     "output_type": "execute_result"
    }
   ],
   "source": [
    "completed['TIME_DIFF_HR'].describe()"
   ]
  },
  {
   "cell_type": "code",
   "execution_count": 91,
   "id": "a4c00dc7",
   "metadata": {},
   "outputs": [
    {
     "name": "stdout",
     "output_type": "stream",
     "text": [
      "(62875, 14)\n",
      "(220457, 14)\n",
      "The portion of jobs that have below 12 hrs in difference between REQTIME and USEDTIME is 77.80844448052292%\n"
     ]
    }
   ],
   "source": [
    "print(completed[completed['TIME_DIFF_HR'] > 12].shape)\n",
    "print(completed[completed['TIME_DIFF_HR'] < 12].shape)\n",
    "print(\"The portion of jobs that have below 12 hrs in difference between REQTIME and USEDTIME is \" + str(220457/283333*100) + \"%\")"
   ]
  },
  {
   "cell_type": "code",
   "execution_count": 111,
   "id": "9e8653ef",
   "metadata": {},
   "outputs": [
    {
     "data": {
      "text/plain": [
       "<AxesSubplot:xlabel='TIME_DIFF_HR', ylabel='Count'>"
      ]
     },
     "execution_count": 111,
     "metadata": {},
     "output_type": "execute_result"
    },
    {
     "data": {
      "image/png": "[encoded data removed]",
      "text/plain": [
       "<Figure size 432x288 with 1 Axes>"
      ]
     },
     "metadata": {
      "needs_background": "light"
     },
     "output_type": "display_data"
    }
   ],
   "source": [
    "sns.histplot(data=completed[completed['TIME_DIFF_HR']<12], x=\"TIME_DIFF_HR\", hue=\"PARTITION\", multiple=\"stack\", bins=10) #meaningful "
   ]
  },
  {
   "cell_type": "markdown",
   "id": "7e4d0828",
   "metadata": {},
   "source": [
    "# Top 5 Greedy Users"
   ]
  },
  {
   "cell_type": "code",
   "execution_count": 86,
   "id": "025d60f3",
   "metadata": {},
   "outputs": [
    {
     "data": {
      "text/html": [
       "<div>\n",
       "<style scoped>\n",
       "    .dataframe tbody tr th:only-of-type {\n",
       "        vertical-align: middle;\n",
       "    }\n",
       "\n",
       "    .dataframe tbody tr th {\n",
       "        vertical-align: top;\n",
       "    }\n",
       "\n",
       "    .dataframe thead th {\n",
       "        text-align: right;\n",
       "    }\n",
       "</style>\n",
       "<table border=\"1\" class=\"dataframe\">\n",
       "  <thead>\n",
       "    <tr style=\"text-align: right;\">\n",
       "      <th></th>\n",
       "      <th>ACCOUNT</th>\n",
       "      <th>USER</th>\n",
       "      <th>REQTIME</th>\n",
       "      <th>USEDTIME</th>\n",
       "      <th>TIME_DIFF_HR</th>\n",
       "    </tr>\n",
       "  </thead>\n",
       "  <tbody>\n",
       "    <tr>\n",
       "      <th>60205</th>\n",
       "      <td>glasshouse</td>\n",
       "      <td>brodie</td>\n",
       "      <td>360.0</td>\n",
       "      <td>86.230556</td>\n",
       "      <td>273.769444</td>\n",
       "    </tr>\n",
       "    <tr>\n",
       "      <th>60204</th>\n",
       "      <td>glasshouse</td>\n",
       "      <td>brodie</td>\n",
       "      <td>360.0</td>\n",
       "      <td>88.015556</td>\n",
       "      <td>271.984444</td>\n",
       "    </tr>\n",
       "    <tr>\n",
       "      <th>332773</th>\n",
       "      <td>pinole</td>\n",
       "      <td>booker</td>\n",
       "      <td>264.0</td>\n",
       "      <td>25.931667</td>\n",
       "      <td>238.068333</td>\n",
       "    </tr>\n",
       "    <tr>\n",
       "      <th>333065</th>\n",
       "      <td>glasshouse</td>\n",
       "      <td>jolette</td>\n",
       "      <td>120.0</td>\n",
       "      <td>0.000000</td>\n",
       "      <td>120.000000</td>\n",
       "    </tr>\n",
       "    <tr>\n",
       "      <th>317691</th>\n",
       "      <td>harovin</td>\n",
       "      <td>porsha</td>\n",
       "      <td>120.0</td>\n",
       "      <td>0.000000</td>\n",
       "      <td>120.000000</td>\n",
       "    </tr>\n",
       "  </tbody>\n",
       "</table>\n",
       "</div>"
      ],
      "text/plain": [
       "           ACCOUNT     USER  REQTIME   USEDTIME  TIME_DIFF_HR\n",
       "60205   glasshouse   brodie    360.0  86.230556    273.769444\n",
       "60204   glasshouse   brodie    360.0  88.015556    271.984444\n",
       "332773      pinole   booker    264.0  25.931667    238.068333\n",
       "333065  glasshouse  jolette    120.0   0.000000    120.000000\n",
       "317691     harovin   porsha    120.0   0.000000    120.000000"
      ]
     },
     "execution_count": 86,
     "metadata": {},
     "output_type": "execute_result"
    }
   ],
   "source": [
    "completed.sort_values(by='TIME_DIFF_HR', ascending=False).head(5)[['ACCOUNT','USER','REQTIME','USEDTIME','TIME_DIFF_HR']]"
   ]
  },
  {
   "cell_type": "markdown",
   "id": "8d5a15c5",
   "metadata": {},
   "source": [
    "# Greedy Users with TIME_DIFF_HR over 100 HR"
   ]
  },
  {
   "cell_type": "code",
   "execution_count": 105,
   "id": "56d5658a",
   "metadata": {},
   "outputs": [
    {
     "data": {
      "text/html": [
       "<div>\n",
       "<style scoped>\n",
       "    .dataframe tbody tr th:only-of-type {\n",
       "        vertical-align: middle;\n",
       "    }\n",
       "\n",
       "    .dataframe tbody tr th {\n",
       "        vertical-align: top;\n",
       "    }\n",
       "\n",
       "    .dataframe thead th {\n",
       "        text-align: right;\n",
       "    }\n",
       "</style>\n",
       "<table border=\"1\" class=\"dataframe\">\n",
       "  <thead>\n",
       "    <tr style=\"text-align: right;\">\n",
       "      <th></th>\n",
       "      <th>JOBID</th>\n",
       "      <th>ACCOUNT</th>\n",
       "      <th>USER</th>\n",
       "      <th>USEDMEM</th>\n",
       "      <th>REQTIME</th>\n",
       "      <th>USEDTIME</th>\n",
       "      <th>NODES</th>\n",
       "      <th>CPUS</th>\n",
       "      <th>GPUS</th>\n",
       "      <th>PARTITION</th>\n",
       "      <th>EXITCODE</th>\n",
       "      <th>STATE</th>\n",
       "      <th>TIME_DIFF_HR</th>\n",
       "      <th>USAGE_PER_GPU</th>\n",
       "    </tr>\n",
       "  </thead>\n",
       "  <tbody>\n",
       "    <tr>\n",
       "      <th>65</th>\n",
       "      <td>32880916</td>\n",
       "      <td>sunburst</td>\n",
       "      <td>demarcus</td>\n",
       "      <td>151.40</td>\n",
       "      <td>96.0</td>\n",
       "      <td>0.092500</td>\n",
       "      <td>1</td>\n",
       "      <td>1</td>\n",
       "      <td>1</td>\n",
       "      <td>pascal</td>\n",
       "      <td>0:0</td>\n",
       "      <td>COMPLETED</td>\n",
       "      <td>95.907500</td>\n",
       "      <td>0.092500</td>\n",
       "    </tr>\n",
       "    <tr>\n",
       "      <th>66</th>\n",
       "      <td>32880917</td>\n",
       "      <td>sunburst</td>\n",
       "      <td>demarcus</td>\n",
       "      <td>143.45</td>\n",
       "      <td>96.0</td>\n",
       "      <td>0.091111</td>\n",
       "      <td>1</td>\n",
       "      <td>1</td>\n",
       "      <td>1</td>\n",
       "      <td>pascal</td>\n",
       "      <td>0:0</td>\n",
       "      <td>COMPLETED</td>\n",
       "      <td>95.908889</td>\n",
       "      <td>0.091111</td>\n",
       "    </tr>\n",
       "    <tr>\n",
       "      <th>67</th>\n",
       "      <td>32880918</td>\n",
       "      <td>sunburst</td>\n",
       "      <td>demarcus</td>\n",
       "      <td>140.25</td>\n",
       "      <td>96.0</td>\n",
       "      <td>0.081389</td>\n",
       "      <td>1</td>\n",
       "      <td>1</td>\n",
       "      <td>1</td>\n",
       "      <td>pascal</td>\n",
       "      <td>0:0</td>\n",
       "      <td>COMPLETED</td>\n",
       "      <td>95.918611</td>\n",
       "      <td>0.081389</td>\n",
       "    </tr>\n",
       "    <tr>\n",
       "      <th>68</th>\n",
       "      <td>32880919</td>\n",
       "      <td>sunburst</td>\n",
       "      <td>demarcus</td>\n",
       "      <td>156.66</td>\n",
       "      <td>96.0</td>\n",
       "      <td>0.678056</td>\n",
       "      <td>1</td>\n",
       "      <td>1</td>\n",
       "      <td>1</td>\n",
       "      <td>pascal</td>\n",
       "      <td>0:0</td>\n",
       "      <td>COMPLETED</td>\n",
       "      <td>95.321944</td>\n",
       "      <td>0.678056</td>\n",
       "    </tr>\n",
       "    <tr>\n",
       "      <th>69</th>\n",
       "      <td>32880920</td>\n",
       "      <td>sunburst</td>\n",
       "      <td>demarcus</td>\n",
       "      <td>173.94</td>\n",
       "      <td>96.0</td>\n",
       "      <td>1.148889</td>\n",
       "      <td>1</td>\n",
       "      <td>1</td>\n",
       "      <td>1</td>\n",
       "      <td>pascal</td>\n",
       "      <td>0:0</td>\n",
       "      <td>COMPLETED</td>\n",
       "      <td>94.851111</td>\n",
       "      <td>1.148889</td>\n",
       "    </tr>\n",
       "    <tr>\n",
       "      <th>...</th>\n",
       "      <td>...</td>\n",
       "      <td>...</td>\n",
       "      <td>...</td>\n",
       "      <td>...</td>\n",
       "      <td>...</td>\n",
       "      <td>...</td>\n",
       "      <td>...</td>\n",
       "      <td>...</td>\n",
       "      <td>...</td>\n",
       "      <td>...</td>\n",
       "      <td>...</td>\n",
       "      <td>...</td>\n",
       "      <td>...</td>\n",
       "      <td>...</td>\n",
       "    </tr>\n",
       "    <tr>\n",
       "      <th>336929</th>\n",
       "      <td>46753800</td>\n",
       "      <td>harovin</td>\n",
       "      <td>shannon</td>\n",
       "      <td>160.03</td>\n",
       "      <td>120.0</td>\n",
       "      <td>0.010278</td>\n",
       "      <td>1</td>\n",
       "      <td>1</td>\n",
       "      <td>1</td>\n",
       "      <td>turing</td>\n",
       "      <td>0:0</td>\n",
       "      <td>COMPLETED</td>\n",
       "      <td>119.989722</td>\n",
       "      <td>0.010278</td>\n",
       "    </tr>\n",
       "    <tr>\n",
       "      <th>336933</th>\n",
       "      <td>46753813</td>\n",
       "      <td>harovin</td>\n",
       "      <td>shannon</td>\n",
       "      <td>137.96</td>\n",
       "      <td>120.0</td>\n",
       "      <td>0.014444</td>\n",
       "      <td>1</td>\n",
       "      <td>1</td>\n",
       "      <td>1</td>\n",
       "      <td>turing</td>\n",
       "      <td>0:0</td>\n",
       "      <td>COMPLETED</td>\n",
       "      <td>119.985556</td>\n",
       "      <td>0.014444</td>\n",
       "    </tr>\n",
       "    <tr>\n",
       "      <th>336934</th>\n",
       "      <td>46753820_26</td>\n",
       "      <td>harovin</td>\n",
       "      <td>porsha</td>\n",
       "      <td>5093.70</td>\n",
       "      <td>120.0</td>\n",
       "      <td>0.580833</td>\n",
       "      <td>1</td>\n",
       "      <td>6</td>\n",
       "      <td>1</td>\n",
       "      <td>turing</td>\n",
       "      <td>0:0</td>\n",
       "      <td>COMPLETED</td>\n",
       "      <td>119.419167</td>\n",
       "      <td>0.580833</td>\n",
       "    </tr>\n",
       "    <tr>\n",
       "      <th>336936</th>\n",
       "      <td>46753823</td>\n",
       "      <td>harovin</td>\n",
       "      <td>shannon</td>\n",
       "      <td>156.21</td>\n",
       "      <td>120.0</td>\n",
       "      <td>0.067500</td>\n",
       "      <td>1</td>\n",
       "      <td>1</td>\n",
       "      <td>1</td>\n",
       "      <td>turing</td>\n",
       "      <td>0:0</td>\n",
       "      <td>COMPLETED</td>\n",
       "      <td>119.932500</td>\n",
       "      <td>0.067500</td>\n",
       "    </tr>\n",
       "    <tr>\n",
       "      <th>336942</th>\n",
       "      <td>46754095</td>\n",
       "      <td>harovin</td>\n",
       "      <td>shannon</td>\n",
       "      <td>2820.52</td>\n",
       "      <td>120.0</td>\n",
       "      <td>0.186944</td>\n",
       "      <td>1</td>\n",
       "      <td>1</td>\n",
       "      <td>1</td>\n",
       "      <td>turing</td>\n",
       "      <td>0:0</td>\n",
       "      <td>COMPLETED</td>\n",
       "      <td>119.813056</td>\n",
       "      <td>0.186944</td>\n",
       "    </tr>\n",
       "  </tbody>\n",
       "</table>\n",
       "<p>25805 rows × 14 columns</p>\n",
       "</div>"
      ],
      "text/plain": [
       "              JOBID   ACCOUNT      USER  USEDMEM  REQTIME  USEDTIME  NODES  \\\n",
       "65         32880916  sunburst  demarcus   151.40     96.0  0.092500      1   \n",
       "66         32880917  sunburst  demarcus   143.45     96.0  0.091111      1   \n",
       "67         32880918  sunburst  demarcus   140.25     96.0  0.081389      1   \n",
       "68         32880919  sunburst  demarcus   156.66     96.0  0.678056      1   \n",
       "69         32880920  sunburst  demarcus   173.94     96.0  1.148889      1   \n",
       "...             ...       ...       ...      ...      ...       ...    ...   \n",
       "336929     46753800   harovin   shannon   160.03    120.0  0.010278      1   \n",
       "336933     46753813   harovin   shannon   137.96    120.0  0.014444      1   \n",
       "336934  46753820_26   harovin    porsha  5093.70    120.0  0.580833      1   \n",
       "336936     46753823   harovin   shannon   156.21    120.0  0.067500      1   \n",
       "336942     46754095   harovin   shannon  2820.52    120.0  0.186944      1   \n",
       "\n",
       "        CPUS  GPUS PARTITION EXITCODE      STATE  TIME_DIFF_HR  USAGE_PER_GPU  \n",
       "65         1     1    pascal      0:0  COMPLETED     95.907500       0.092500  \n",
       "66         1     1    pascal      0:0  COMPLETED     95.908889       0.091111  \n",
       "67         1     1    pascal      0:0  COMPLETED     95.918611       0.081389  \n",
       "68         1     1    pascal      0:0  COMPLETED     95.321944       0.678056  \n",
       "69         1     1    pascal      0:0  COMPLETED     94.851111       1.148889  \n",
       "...      ...   ...       ...      ...        ...           ...            ...  \n",
       "336929     1     1    turing      0:0  COMPLETED    119.989722       0.010278  \n",
       "336933     1     1    turing      0:0  COMPLETED    119.985556       0.014444  \n",
       "336934     6     1    turing      0:0  COMPLETED    119.419167       0.580833  \n",
       "336936     1     1    turing      0:0  COMPLETED    119.932500       0.067500  \n",
       "336942     1     1    turing      0:0  COMPLETED    119.813056       0.186944  \n",
       "\n",
       "[25805 rows x 14 columns]"
      ]
     },
     "execution_count": 105,
     "metadata": {},
     "output_type": "execute_result"
    }
   ],
   "source": [
    "completed[completed['TIME_DIFF_HR']>90]"
   ]
  },
  {
   "cell_type": "code",
   "execution_count": 117,
   "id": "2202d562",
   "metadata": {},
   "outputs": [
    {
     "data": {
      "text/plain": [
       "<AxesSubplot:xlabel='TIME_DIFF_HR', ylabel='Count'>"
      ]
     },
     "execution_count": 117,
     "metadata": {},
     "output_type": "execute_result"
    },
    {
     "data": {
      "image/png": "[encoded data removed]",
      "text/plain": [
       "<Figure size 432x288 with 1 Axes>"
      ]
     },
     "metadata": {
      "needs_background": "light"
     },
     "output_type": "display_data"
    }
   ],
   "source": [
    "sns.histplot(data=completed[(completed['TIME_DIFF_HR']>117) & (completed['TIME_DIFF_HR']<200)], x=\"TIME_DIFF_HR\", hue=\"PARTITION\", multiple=\"stack\", bins=5) #meaningful "
   ]
  },
  {
   "cell_type": "code",
   "execution_count": 11,
   "id": "9421b82d",
   "metadata": {},
   "outputs": [
    {
     "data": {
      "text/plain": [
       "72051.22499999999"
      ]
     },
     "execution_count": 11,
     "metadata": {},
     "output_type": "execute_result"
    }
   ],
   "source": [
    "q4 = completed[(completed['USER']=='porsha') & (completed['PARTITION']=='turing')]\n",
    "q4['USEDTIME'].sum()"
   ]
  },
  {
   "cell_type": "code",
   "execution_count": 12,
   "id": "c9aa6383",
   "metadata": {},
   "outputs": [
    {
     "data": {
      "text/plain": [
       "PARTITION  USER      \n",
       "turing     porsha        72051.225000\n",
       "pascal     collins       36128.736389\n",
       "           jolette       35495.081111\n",
       "           birdella      32735.093056\n",
       "           nakisha       25576.947500\n",
       "turing     collins       23290.541667\n",
       "pascal     erick         21532.426111\n",
       "maxwell    collins       16096.124722\n",
       "           jolette       10501.501111\n",
       "pascal     debera        10157.885833\n",
       "turing     valentina      9929.354444\n",
       "           margret        9316.541111\n",
       "maxwell    erick          9295.141389\n",
       "pascal     brady          8782.690278\n",
       "turing     shannon        8178.542500\n",
       "maxwell    suzanna        6463.001389\n",
       "turing     treva          6414.418333\n",
       "pascal     wilhelmina     6031.874167\n",
       "           jonnie         5281.844722\n",
       "maxwell    marnie         5052.001667\n",
       "           davonta        4594.072500\n",
       "turing     jonnie         4102.137778\n",
       "pascal     nobie          3886.196667\n",
       "           miya           3490.960556\n",
       "maxwell    porsha         3460.863889\n",
       "pascal     andra          3360.399722\n",
       "           hjalmar        3166.816667\n",
       "           hillery        3094.073333\n",
       "           demarcus       2858.116111\n",
       "           marnie         2455.590000\n",
       "turing     era            2360.470833\n",
       "           marnie         2302.569444\n",
       "maxwell    era            2221.246667\n",
       "pascal     treva          2009.383889\n",
       "turing     anitra         1993.645833\n",
       "pascal     arline         1930.406944\n",
       "           earlean        1730.138333\n",
       "           milford        1686.471667\n",
       "           mel            1484.435833\n",
       "           archie         1425.969722\n",
       "Name: USEDTIME, dtype: float64"
      ]
     },
     "execution_count": 12,
     "metadata": {},
     "output_type": "execute_result"
    }
   ],
   "source": [
    "completed.groupby([\"PARTITION\",\"USER\"])[\"USEDTIME\"].sum().sort_values(ascending=False).head(40)"
   ]
  },
  {
   "cell_type": "code",
   "execution_count": 13,
   "id": "c9d428d2",
   "metadata": {},
   "outputs": [
    {
     "data": {
      "text/plain": [
       "USER        PARTITION\n",
       "porsha      turing       72051.225000\n",
       "collins     pascal       36128.736389\n",
       "jolette     pascal       35495.081111\n",
       "birdella    pascal       32735.093056\n",
       "nakisha     pascal       25576.947500\n",
       "collins     turing       23290.541667\n",
       "erick       pascal       21532.426111\n",
       "collins     maxwell      16096.124722\n",
       "jolette     maxwell      10501.501111\n",
       "debera      pascal       10157.885833\n",
       "valentina   turing        9929.354444\n",
       "margret     turing        9316.541111\n",
       "erick       maxwell       9295.141389\n",
       "brady       pascal        8782.690278\n",
       "shannon     turing        8178.542500\n",
       "suzanna     maxwell       6463.001389\n",
       "treva       turing        6414.418333\n",
       "wilhelmina  pascal        6031.874167\n",
       "jonnie      pascal        5281.844722\n",
       "marnie      maxwell       5052.001667\n",
       "davonta     maxwell       4594.072500\n",
       "jonnie      turing        4102.137778\n",
       "nobie       pascal        3886.196667\n",
       "miya        pascal        3490.960556\n",
       "porsha      maxwell       3460.863889\n",
       "andra       pascal        3360.399722\n",
       "hjalmar     pascal        3166.816667\n",
       "hillery     pascal        3094.073333\n",
       "demarcus    pascal        2858.116111\n",
       "marnie      pascal        2455.590000\n",
       "era         turing        2360.470833\n",
       "marnie      turing        2302.569444\n",
       "era         maxwell       2221.246667\n",
       "treva       pascal        2009.383889\n",
       "anitra      turing        1993.645833\n",
       "arline      pascal        1930.406944\n",
       "earlean     pascal        1730.138333\n",
       "milford     pascal        1686.471667\n",
       "mel         pascal        1484.435833\n",
       "archie      pascal        1425.969722\n",
       "Name: USEDTIME, dtype: float64"
      ]
     },
     "execution_count": 13,
     "metadata": {},
     "output_type": "execute_result"
    }
   ],
   "source": [
    "completed.groupby([\"USER\",\"PARTITION\"])[\"USEDTIME\"].sum().sort_values(ascending=False).head(40)"
   ]
  },
  {
   "cell_type": "markdown",
   "id": "ae595c17",
   "metadata": {},
   "source": [
    "## What is the total runtime usage per-gpu (i.e. multiply runtime by the number of gpus) in each of the 3 partitions over the last year?"
   ]
  },
  {
   "cell_type": "code",
   "execution_count": 14,
   "id": "177bf3b9",
   "metadata": {},
   "outputs": [
    {
     "data": {
      "text/plain": [
       "PARTITION\n",
       "maxwell     92701.636667\n",
       "pascal     334872.838056\n",
       "turing     204650.596667\n",
       "Name: USAGE_PER_GPU, dtype: float64"
      ]
     },
     "execution_count": 14,
     "metadata": {},
     "output_type": "execute_result"
    }
   ],
   "source": [
    "completed_q3 = completed\n",
    "completed_q3[\"USAGE_PER_GPU\"] = completed_q3[\"GPUS\"] * completed_q3[\"USEDTIME\"]\n",
    "completed_q3.groupby([\"PARTITION\"])[\"USAGE_PER_GPU\"].sum()"
   ]
  },
  {
   "cell_type": "markdown",
   "id": "f9ffb39c",
   "metadata": {},
   "source": [
    "## What fraction of runtime-weighted and GPU-weighted jobs are using more than 4 GPUs and thus probably using the RoCE networking?"
   ]
  },
  {
   "cell_type": "code",
   "execution_count": 15,
   "id": "619c9dea",
   "metadata": {},
   "outputs": [],
   "source": [
    "# What fraction of GPU jobs are using more than 4 GPUs aka using RoCE networking"
   ]
  },
  {
   "cell_type": "code",
   "execution_count": 16,
   "id": "c7461c6d",
   "metadata": {},
   "outputs": [
    {
     "data": {
      "text/plain": [
       "array([ 4, 32, 18,  8, 12, 16, 24, 40, 60,  6, 20])"
      ]
     },
     "execution_count": 16,
     "metadata": {},
     "output_type": "execute_result"
    }
   ],
   "source": [
    "RoCE_networking = completed[completed['GPUS']>=4]\n",
    "RoCE_networking['GPUS'].unique() #users can request up to 4 GPUs per node"
   ]
  },
  {
   "cell_type": "code",
   "execution_count": 17,
   "id": "e2f5fcca",
   "metadata": {},
   "outputs": [
    {
     "name": "stdout",
     "output_type": "stream",
     "text": [
      "(283333, 14)\n",
      "(2895, 14)\n"
     ]
    },
    {
     "data": {
      "text/plain": [
       "(None, None)"
      ]
     },
     "execution_count": 17,
     "metadata": {},
     "output_type": "execute_result"
    }
   ],
   "source": [
    "print(completed.shape), print(RoCE_networking.shape)"
   ]
  },
  {
   "cell_type": "code",
   "execution_count": 18,
   "id": "c8ac0450",
   "metadata": {},
   "outputs": [
    {
     "name": "stdout",
     "output_type": "stream",
     "text": [
      "Of the total completed jobs, the fraction of GPU jobs using RoCE networking is 1.0217659079598918%\n"
     ]
    }
   ],
   "source": [
    "print('Of the total completed jobs, the fraction of GPU jobs using RoCE networking is ' + str(2895/283333*100) +'%')"
   ]
  },
  {
   "cell_type": "code",
   "execution_count": 19,
   "id": "42d79ede",
   "metadata": {},
   "outputs": [
    {
     "data": {
      "text/html": [
       "<div>\n",
       "<style scoped>\n",
       "    .dataframe tbody tr th:only-of-type {\n",
       "        vertical-align: middle;\n",
       "    }\n",
       "\n",
       "    .dataframe tbody tr th {\n",
       "        vertical-align: top;\n",
       "    }\n",
       "\n",
       "    .dataframe thead th {\n",
       "        text-align: right;\n",
       "    }\n",
       "</style>\n",
       "<table border=\"1\" class=\"dataframe\">\n",
       "  <thead>\n",
       "    <tr style=\"text-align: right;\">\n",
       "      <th></th>\n",
       "      <th>JOBID</th>\n",
       "      <th>ACCOUNT</th>\n",
       "      <th>USER</th>\n",
       "      <th>USEDMEM</th>\n",
       "      <th>REQTIME</th>\n",
       "      <th>USEDTIME</th>\n",
       "      <th>NODES</th>\n",
       "      <th>CPUS</th>\n",
       "      <th>GPUS</th>\n",
       "      <th>PARTITION</th>\n",
       "      <th>EXITCODE</th>\n",
       "      <th>STATE</th>\n",
       "      <th>TIME_DIFF_HR</th>\n",
       "      <th>USAGE_PER_GPU</th>\n",
       "    </tr>\n",
       "  </thead>\n",
       "  <tbody>\n",
       "    <tr>\n",
       "      <th>0</th>\n",
       "      <td>32880657</td>\n",
       "      <td>malanga</td>\n",
       "      <td>arline</td>\n",
       "      <td>18.66</td>\n",
       "      <td>48.0</td>\n",
       "      <td>0.220278</td>\n",
       "      <td>1</td>\n",
       "      <td>2</td>\n",
       "      <td>1</td>\n",
       "      <td>pascal</td>\n",
       "      <td>0:0</td>\n",
       "      <td>COMPLETED</td>\n",
       "      <td>47.779722</td>\n",
       "      <td>0.220278</td>\n",
       "    </tr>\n",
       "    <tr>\n",
       "      <th>1</th>\n",
       "      <td>32880701</td>\n",
       "      <td>glasshouse</td>\n",
       "      <td>brady</td>\n",
       "      <td>0.00</td>\n",
       "      <td>5.0</td>\n",
       "      <td>0.006111</td>\n",
       "      <td>1</td>\n",
       "      <td>3</td>\n",
       "      <td>1</td>\n",
       "      <td>maxwell</td>\n",
       "      <td>0:0</td>\n",
       "      <td>COMPLETED</td>\n",
       "      <td>4.993889</td>\n",
       "      <td>0.006111</td>\n",
       "    </tr>\n",
       "    <tr>\n",
       "      <th>2</th>\n",
       "      <td>32880718</td>\n",
       "      <td>glasshouse</td>\n",
       "      <td>brady</td>\n",
       "      <td>402.32</td>\n",
       "      <td>5.0</td>\n",
       "      <td>0.149167</td>\n",
       "      <td>1</td>\n",
       "      <td>3</td>\n",
       "      <td>1</td>\n",
       "      <td>maxwell</td>\n",
       "      <td>0:0</td>\n",
       "      <td>COMPLETED</td>\n",
       "      <td>4.850833</td>\n",
       "      <td>0.149167</td>\n",
       "    </tr>\n",
       "    <tr>\n",
       "      <th>3</th>\n",
       "      <td>32880719</td>\n",
       "      <td>glasshouse</td>\n",
       "      <td>brady</td>\n",
       "      <td>417.62</td>\n",
       "      <td>20.0</td>\n",
       "      <td>5.162778</td>\n",
       "      <td>1</td>\n",
       "      <td>1</td>\n",
       "      <td>1</td>\n",
       "      <td>pascal</td>\n",
       "      <td>0:0</td>\n",
       "      <td>COMPLETED</td>\n",
       "      <td>14.837222</td>\n",
       "      <td>5.162778</td>\n",
       "    </tr>\n",
       "    <tr>\n",
       "      <th>4</th>\n",
       "      <td>32880720</td>\n",
       "      <td>glasshouse</td>\n",
       "      <td>brady</td>\n",
       "      <td>450.09</td>\n",
       "      <td>15.0</td>\n",
       "      <td>4.186111</td>\n",
       "      <td>1</td>\n",
       "      <td>1</td>\n",
       "      <td>1</td>\n",
       "      <td>pascal</td>\n",
       "      <td>0:0</td>\n",
       "      <td>COMPLETED</td>\n",
       "      <td>10.813889</td>\n",
       "      <td>4.186111</td>\n",
       "    </tr>\n",
       "  </tbody>\n",
       "</table>\n",
       "</div>"
      ],
      "text/plain": [
       "      JOBID     ACCOUNT    USER  USEDMEM  REQTIME  USEDTIME  NODES  CPUS  \\\n",
       "0  32880657     malanga  arline    18.66     48.0  0.220278      1     2   \n",
       "1  32880701  glasshouse   brady     0.00      5.0  0.006111      1     3   \n",
       "2  32880718  glasshouse   brady   402.32      5.0  0.149167      1     3   \n",
       "3  32880719  glasshouse   brady   417.62     20.0  5.162778      1     1   \n",
       "4  32880720  glasshouse   brady   450.09     15.0  4.186111      1     1   \n",
       "\n",
       "   GPUS PARTITION EXITCODE      STATE  TIME_DIFF_HR  USAGE_PER_GPU  \n",
       "0     1    pascal      0:0  COMPLETED     47.779722       0.220278  \n",
       "1     1   maxwell      0:0  COMPLETED      4.993889       0.006111  \n",
       "2     1   maxwell      0:0  COMPLETED      4.850833       0.149167  \n",
       "3     1    pascal      0:0  COMPLETED     14.837222       5.162778  \n",
       "4     1    pascal      0:0  COMPLETED     10.813889       4.186111  "
      ]
     },
     "execution_count": 19,
     "metadata": {},
     "output_type": "execute_result"
    }
   ],
   "source": [
    "completed.head()"
   ]
  },
  {
   "cell_type": "code",
   "execution_count": 20,
   "id": "38405163",
   "metadata": {},
   "outputs": [
    {
     "data": {
      "text/plain": [
       "count    283333.000000\n",
       "mean       2240.911704\n",
       "std        6434.562929\n",
       "min           0.000000\n",
       "25%           7.530000\n",
       "50%        1176.880000\n",
       "75%        2179.520000\n",
       "max      371247.350000\n",
       "Name: USEDMEM, dtype: float64"
      ]
     },
     "execution_count": 20,
     "metadata": {},
     "output_type": "execute_result"
    }
   ],
   "source": [
    "completed['USEDMEM'].describe()"
   ]
  },
  {
   "cell_type": "code",
   "execution_count": 21,
   "id": "578c9d49",
   "metadata": {},
   "outputs": [
    {
     "name": "stdout",
     "output_type": "stream",
     "text": [
      "(28195, 14)\n",
      "(255138, 14)\n",
      "The portion of jobs that used below 5000 MB of memory is 90.04881182213155%\n"
     ]
    }
   ],
   "source": [
    "print(completed[completed['USEDMEM'] > 5000].shape)\n",
    "print(completed[completed['USEDMEM'] < 5000].shape)\n",
    "print(\"The portion of jobs that used below 5000 MB of memory is \" + str(255138/283333*100) + \"%\")"
   ]
  },
  {
   "cell_type": "code",
   "execution_count": 22,
   "id": "04cf3f12",
   "metadata": {},
   "outputs": [
    {
     "data": {
      "text/plain": [
       "<AxesSubplot:>"
      ]
     },
     "execution_count": 22,
     "metadata": {},
     "output_type": "execute_result"
    },
    {
     "data": {
      "image/png": "[encoded data removed]",
      "text/plain": [
       "<Figure size 432x288 with 1 Axes>"
      ]
     },
     "metadata": {
      "needs_background": "light"
     },
     "output_type": "display_data"
    }
   ],
   "source": [
    "completed['USEDMEM'].describe().hist()  #Majority of data lies below 5000MB of USEDMEM"
   ]
  },
  {
   "cell_type": "code",
   "execution_count": 23,
   "id": "bb42a3ae",
   "metadata": {},
   "outputs": [
    {
     "data": {
      "text/plain": [
       "count    283333.000000\n",
       "mean          1.571967\n",
       "std           9.645471\n",
       "min           0.000000\n",
       "25%           0.006111\n",
       "50%           0.055278\n",
       "75%           0.151667\n",
       "max         195.259444\n",
       "Name: USEDTIME, dtype: float64"
      ]
     },
     "execution_count": 23,
     "metadata": {},
     "output_type": "execute_result"
    }
   ],
   "source": [
    "completed['USEDTIME'].describe()"
   ]
  },
  {
   "cell_type": "code",
   "execution_count": 24,
   "id": "d7c01ceb",
   "metadata": {},
   "outputs": [
    {
     "name": "stdout",
     "output_type": "stream",
     "text": [
      "(18892, 14)\n",
      "(264436, 14)\n",
      "The portion of jobs that requires less than 2 hours is 93.33046274172088%\n"
     ]
    }
   ],
   "source": [
    "print(completed[completed['USEDTIME'] > 2].shape)\n",
    "print(completed[completed['USEDTIME'] < 2].shape)\n",
    "print(\"The portion of jobs that requires less than 2 hours is \" + str(264436/283333*100) + \"%\")"
   ]
  },
  {
   "cell_type": "code",
   "execution_count": 25,
   "id": "64fb4188",
   "metadata": {},
   "outputs": [
    {
     "data": {
      "text/plain": [
       "<AxesSubplot:>"
      ]
     },
     "execution_count": 25,
     "metadata": {},
     "output_type": "execute_result"
    },
    {
     "data": {
      "image/png": "[encoded data removed]",
      "text/plain": [
       "<Figure size 432x288 with 1 Axes>"
      ]
     },
     "metadata": {
      "needs_background": "light"
     },
     "output_type": "display_data"
    }
   ],
   "source": [
    "completed['USEDTIME'].describe().hist()    #Majority of data lies below 5000 MB of USEDMEM"
   ]
  },
  {
   "cell_type": "code",
   "execution_count": 26,
   "id": "1cc95a6b",
   "metadata": {},
   "outputs": [
    {
     "data": {
      "text/plain": [
       "<AxesSubplot:xlabel='USEDMEM', ylabel='Count'>"
      ]
     },
     "execution_count": 26,
     "metadata": {},
     "output_type": "execute_result"
    },
    {
     "data": {
      "image/png": "[encoded data removed]",
      "text/plain": [
       "<Figure size 432x288 with 1 Axes>"
      ]
     },
     "metadata": {
      "needs_background": "light"
     },
     "output_type": "display_data"
    }
   ],
   "source": [
    "sns.histplot(data=completed, x=\"USEDMEM\", hue=\"PARTITION\", multiple=\"stack\", bins=20) #not meaningful"
   ]
  },
  {
   "cell_type": "code",
   "execution_count": 27,
   "id": "c7f5e420",
   "metadata": {
    "scrolled": true
   },
   "outputs": [
    {
     "data": {
      "text/plain": [
       "<AxesSubplot:xlabel='USEDMEM', ylabel='Count'>"
      ]
     },
     "execution_count": 27,
     "metadata": {},
     "output_type": "execute_result"
    },
    {
     "data": {
      "image/png": "[encoded data removed]",
      "text/plain": [
       "<Figure size 432x288 with 1 Axes>"
      ]
     },
     "metadata": {
      "needs_background": "light"
     },
     "output_type": "display_data"
    }
   ],
   "source": [
    "sns.histplot(data=completed[completed[\"USEDMEM\"] < 5000], x=\"USEDMEM\", hue=\"PARTITION\", multiple=\"stack\", bins=20) #meaningful "
   ]
  },
  {
   "cell_type": "code",
   "execution_count": 28,
   "id": "90e81677",
   "metadata": {},
   "outputs": [
    {
     "data": {
      "text/plain": [
       "0.9004881182213156"
      ]
     },
     "execution_count": 28,
     "metadata": {},
     "output_type": "execute_result"
    }
   ],
   "source": [
    "np.mean(completed[\"USEDMEM\"] < 5000) "
   ]
  },
  {
   "cell_type": "code",
   "execution_count": 29,
   "id": "6b6e6195",
   "metadata": {},
   "outputs": [
    {
     "data": {
      "image/png": "[encoded data removed]",
      "text/plain": [
       "<Figure size 432x288 with 1 Axes>"
      ]
     },
     "metadata": {
      "needs_background": "light"
     },
     "output_type": "display_data"
    },
    {
     "data": {
      "text/plain": [
       "<AxesSubplot:xlabel='PARTITION', ylabel='USEDMEM'>"
      ]
     },
     "execution_count": 29,
     "metadata": {},
     "output_type": "execute_result"
    },
    {
     "data": {
      "image/png": "[encoded data removed]",
      "text/plain": [
       "<Figure size 432x288 with 1 Axes>"
      ]
     },
     "metadata": {
      "needs_background": "light"
     },
     "output_type": "display_data"
    }
   ],
   "source": [
    "# violin plot of memory usage\n",
    "sns.violinplot(data=completed[completed[\"USEDMEM\"] < 5000], x=\"PARTITION\", y=\"USEDMEM\")\n",
    "plt.show()\n",
    "sns.boxplot(data=completed[completed[\"USEDMEM\"] < 5000], x=\"PARTITION\", y=\"USEDMEM\")"
   ]
  },
  {
   "cell_type": "code",
   "execution_count": 30,
   "id": "2a1b9103",
   "metadata": {},
   "outputs": [
    {
     "data": {
      "text/plain": [
       "<AxesSubplot:xlabel='USEDTIME', ylabel='USEDMEM'>"
      ]
     },
     "execution_count": 30,
     "metadata": {},
     "output_type": "execute_result"
    },
    {
     "data": {
      "image/png": "[encoded data removed]",
      "text/plain": [
       "<Figure size 432x288 with 1 Axes>"
      ]
     },
     "metadata": {
      "needs_background": "light"
     },
     "output_type": "display_data"
    }
   ],
   "source": [
    "ax = sns.scatterplot(x = completed[\"USEDTIME\"], y = completed[\"USEDMEM\"], hue = completed[\"PARTITION\"])\n",
    "ax"
   ]
  },
  {
   "cell_type": "code",
   "execution_count": null,
   "id": "01a81a87",
   "metadata": {},
   "outputs": [],
   "source": []
  },
  {
   "cell_type": "code",
   "execution_count": null,
   "id": "9718d2f8",
   "metadata": {},
   "outputs": [],
   "source": []
  },
  {
   "cell_type": "code",
   "execution_count": null,
   "id": "8c163965",
   "metadata": {},
   "outputs": [],
   "source": []
  },
  {
   "cell_type": "code",
   "execution_count": null,
   "id": "da840d76",
   "metadata": {},
   "outputs": [],
   "source": []
  },
  {
   "cell_type": "code",
   "execution_count": null,
   "id": "48a83a2f",
   "metadata": {},
   "outputs": [],
   "source": []
  },
  {
   "cell_type": "code",
   "execution_count": null,
   "id": "3d51f11b",
   "metadata": {},
   "outputs": [],
   "source": []
  },
  {
   "cell_type": "code",
   "execution_count": null,
   "id": "77ca2635",
   "metadata": {},
   "outputs": [],
   "source": []
  },
  {
   "cell_type": "code",
   "execution_count": null,
   "id": "195e3b09",
   "metadata": {},
   "outputs": [],
   "source": []
  },
  {
   "cell_type": "code",
   "execution_count": null,
   "id": "25e1b643",
   "metadata": {},
   "outputs": [],
   "source": []
  },
  {
   "cell_type": "code",
   "execution_count": null,
   "id": "cd8f6e75",
   "metadata": {},
   "outputs": [],
   "source": []
  },
  {
   "cell_type": "code",
   "execution_count": null,
   "id": "23dec11c",
   "metadata": {},
   "outputs": [],
   "source": []
  },
  {
   "cell_type": "code",
   "execution_count": null,
   "id": "f3814f31",
   "metadata": {},
   "outputs": [],
   "source": []
  },
  {
   "cell_type": "code",
   "execution_count": null,
   "id": "92eccaf8",
   "metadata": {},
   "outputs": [],
   "source": []
  },
  {
   "cell_type": "code",
   "execution_count": null,
   "id": "a2c5c3c9",
   "metadata": {},
   "outputs": [],
   "source": []
  },
  {
   "cell_type": "code",
   "execution_count": null,
   "id": "f3cd54be",
   "metadata": {},
   "outputs": [],
   "source": []
  },
  {
   "cell_type": "code",
   "execution_count": null,
   "id": "1e9df546",
   "metadata": {},
   "outputs": [],
   "source": []
  },
  {
   "cell_type": "code",
   "execution_count": null,
   "id": "1e6de705",
   "metadata": {},
   "outputs": [],
   "source": []
  },
  {
   "cell_type": "code",
   "execution_count": null,
   "id": "0f7bf69f",
   "metadata": {},
   "outputs": [],
   "source": []
  },
  {
   "cell_type": "code",
   "execution_count": null,
   "id": "b150a9d6",
   "metadata": {},
   "outputs": [],
   "source": []
  },
  {
   "cell_type": "code",
   "execution_count": null,
   "id": "6c21b555",
   "metadata": {},
   "outputs": [],
   "source": []
  },
  {
   "cell_type": "code",
   "execution_count": null,
   "id": "52e4bb9b",
   "metadata": {},
   "outputs": [],
   "source": []
  },
  {
   "cell_type": "code",
   "execution_count": 31,
   "id": "d58ff7b7",
   "metadata": {
    "id": "d58ff7b7",
    "outputId": "cde849f8-579d-4083-ba7e-b600c1680ba0"
   },
   "outputs": [
    {
     "data": {
      "text/plain": [
       "array(['0:0', '127:0', '0:2', '1:0', '0:15', '0:9', '2:0', '0:6', '7:0',\n",
       "       '126:0', '33:0', '13:0', '16:0', '0:125', '9:0', '0:7'],\n",
       "      dtype=object)"
      ]
     },
     "execution_count": 31,
     "metadata": {},
     "output_type": "execute_result"
    }
   ],
   "source": [
    "df['EXITCODE'].unique()"
   ]
  },
  {
   "cell_type": "code",
   "execution_count": 32,
   "id": "d3b0a1ea",
   "metadata": {
    "id": "d3b0a1ea",
    "outputId": "4274048b-b762-40d3-e281-ca626da4c4bb"
   },
   "outputs": [
    {
     "data": {
      "text/plain": [
       "array([ 1,  7,  5,  2,  3,  4, 10, 15,  6])"
      ]
     },
     "execution_count": 32,
     "metadata": {},
     "output_type": "execute_result"
    }
   ],
   "source": [
    "completed['NODES'].unique()"
   ]
  },
  {
   "cell_type": "code",
   "execution_count": 33,
   "id": "6843511b",
   "metadata": {
    "id": "6843511b",
    "outputId": "129fd4c3-51cd-4130-fd68-e34c83f40f34"
   },
   "outputs": [
    {
     "data": {
      "text/plain": [
       "array([ 1,  2,  4,  3, 32, 18,  8, 12, 16, 24, 40, 60,  6, 20])"
      ]
     },
     "execution_count": 33,
     "metadata": {},
     "output_type": "execute_result"
    }
   ],
   "source": [
    "completed['GPUS'].unique()"
   ]
  },
  {
   "cell_type": "code",
   "execution_count": 34,
   "id": "e471f40e",
   "metadata": {
    "id": "e471f40e",
    "outputId": "49a1ee76-cc1f-42a6-e09c-265813dbe469"
   },
   "outputs": [
    {
     "data": {
      "text/html": [
       "<div>\n",
       "<style scoped>\n",
       "    .dataframe tbody tr th:only-of-type {\n",
       "        vertical-align: middle;\n",
       "    }\n",
       "\n",
       "    .dataframe tbody tr th {\n",
       "        vertical-align: top;\n",
       "    }\n",
       "\n",
       "    .dataframe thead th {\n",
       "        text-align: right;\n",
       "    }\n",
       "</style>\n",
       "<table border=\"1\" class=\"dataframe\">\n",
       "  <thead>\n",
       "    <tr style=\"text-align: right;\">\n",
       "      <th></th>\n",
       "      <th>JOBID</th>\n",
       "      <th>ACCOUNT</th>\n",
       "      <th>USER</th>\n",
       "      <th>USEDMEM</th>\n",
       "      <th>REQTIME</th>\n",
       "      <th>USEDTIME</th>\n",
       "      <th>NODES</th>\n",
       "      <th>CPUS</th>\n",
       "      <th>GPUS</th>\n",
       "      <th>PARTITION</th>\n",
       "      <th>EXITCODE</th>\n",
       "      <th>STATE</th>\n",
       "      <th>TIME_DIFF_HR</th>\n",
       "      <th>USAGE_PER_GPU</th>\n",
       "    </tr>\n",
       "  </thead>\n",
       "  <tbody>\n",
       "    <tr>\n",
       "      <th>11851</th>\n",
       "      <td>32974293</td>\n",
       "      <td>glasshouse</td>\n",
       "      <td>arlyne</td>\n",
       "      <td>33235.74</td>\n",
       "      <td>20.0</td>\n",
       "      <td>4.035000</td>\n",
       "      <td>5</td>\n",
       "      <td>5</td>\n",
       "      <td>18</td>\n",
       "      <td>maxwell</td>\n",
       "      <td>0:0</td>\n",
       "      <td>COMPLETED</td>\n",
       "      <td>15.965000</td>\n",
       "      <td>72.63</td>\n",
       "    </tr>\n",
       "    <tr>\n",
       "      <th>63358</th>\n",
       "      <td>37545685</td>\n",
       "      <td>glasshouse</td>\n",
       "      <td>jones</td>\n",
       "      <td>415.32</td>\n",
       "      <td>20.0</td>\n",
       "      <td>0.034444</td>\n",
       "      <td>5</td>\n",
       "      <td>50</td>\n",
       "      <td>18</td>\n",
       "      <td>maxwell</td>\n",
       "      <td>0:0</td>\n",
       "      <td>COMPLETED</td>\n",
       "      <td>19.965556</td>\n",
       "      <td>0.62</td>\n",
       "    </tr>\n",
       "    <tr>\n",
       "      <th>63359</th>\n",
       "      <td>37545693</td>\n",
       "      <td>glasshouse</td>\n",
       "      <td>jones</td>\n",
       "      <td>704.08</td>\n",
       "      <td>20.0</td>\n",
       "      <td>0.565556</td>\n",
       "      <td>5</td>\n",
       "      <td>50</td>\n",
       "      <td>18</td>\n",
       "      <td>maxwell</td>\n",
       "      <td>0:0</td>\n",
       "      <td>COMPLETED</td>\n",
       "      <td>19.434444</td>\n",
       "      <td>10.18</td>\n",
       "    </tr>\n",
       "    <tr>\n",
       "      <th>63369</th>\n",
       "      <td>37547119</td>\n",
       "      <td>glasshouse</td>\n",
       "      <td>jones</td>\n",
       "      <td>701.76</td>\n",
       "      <td>20.0</td>\n",
       "      <td>0.486111</td>\n",
       "      <td>5</td>\n",
       "      <td>50</td>\n",
       "      <td>18</td>\n",
       "      <td>maxwell</td>\n",
       "      <td>0:0</td>\n",
       "      <td>COMPLETED</td>\n",
       "      <td>19.513889</td>\n",
       "      <td>8.75</td>\n",
       "    </tr>\n",
       "  </tbody>\n",
       "</table>\n",
       "</div>"
      ],
      "text/plain": [
       "          JOBID     ACCOUNT    USER   USEDMEM  REQTIME  USEDTIME  NODES  CPUS  \\\n",
       "11851  32974293  glasshouse  arlyne  33235.74     20.0  4.035000      5     5   \n",
       "63358  37545685  glasshouse   jones    415.32     20.0  0.034444      5    50   \n",
       "63359  37545693  glasshouse   jones    704.08     20.0  0.565556      5    50   \n",
       "63369  37547119  glasshouse   jones    701.76     20.0  0.486111      5    50   \n",
       "\n",
       "       GPUS PARTITION EXITCODE      STATE  TIME_DIFF_HR  USAGE_PER_GPU  \n",
       "11851    18   maxwell      0:0  COMPLETED     15.965000          72.63  \n",
       "63358    18   maxwell      0:0  COMPLETED     19.965556           0.62  \n",
       "63359    18   maxwell      0:0  COMPLETED     19.434444          10.18  \n",
       "63369    18   maxwell      0:0  COMPLETED     19.513889           8.75  "
      ]
     },
     "execution_count": 34,
     "metadata": {},
     "output_type": "execute_result"
    }
   ],
   "source": [
    "completed[completed['GPUS'] == 18]"
   ]
  },
  {
   "cell_type": "code",
   "execution_count": 35,
   "id": "72992f49",
   "metadata": {
    "id": "72992f49",
    "outputId": "c8918131-25fb-4ff7-e49b-2bb20c0834fa"
   },
   "outputs": [
    {
     "data": {
      "text/plain": [
       "array([  2,   3,   1,   6,  12,   4,   8,  18,   7,   5,  24,  30,   9,\n",
       "        20,  16,  36,  80, 120,  50,  10,  21,  70,  25,  17,  40,  14,\n",
       "        33,  72,  11,  60,  13,  69,  28,  35,  26,  29])"
      ]
     },
     "execution_count": 35,
     "metadata": {},
     "output_type": "execute_result"
    }
   ],
   "source": [
    "completed['CPUS'].unique()"
   ]
  },
  {
   "cell_type": "code",
   "execution_count": 36,
   "id": "e7533744",
   "metadata": {
    "id": "e7533744",
    "outputId": "f35ba60d-8e26-49ea-8cfe-3b1b6b0c6620"
   },
   "outputs": [
    {
     "data": {
      "text/plain": [
       "False"
      ]
     },
     "execution_count": 36,
     "metadata": {},
     "output_type": "execute_result"
    }
   ],
   "source": [
    "completed.isnull().values.any() #no NaN value in the entire Completed dataset"
   ]
  },
  {
   "cell_type": "code",
   "execution_count": null,
   "id": "3e7aa270",
   "metadata": {
    "id": "3e7aa270"
   },
   "outputs": [],
   "source": []
  },
  {
   "cell_type": "code",
   "execution_count": null,
   "id": "c2bc20e4",
   "metadata": {
    "id": "c2bc20e4"
   },
   "outputs": [],
   "source": []
  },
  {
   "cell_type": "code",
   "execution_count": null,
   "id": "82195145",
   "metadata": {
    "id": "82195145"
   },
   "outputs": [],
   "source": []
  }
 ],
 "metadata": {
  "colab": {
   "provenance": []
  },
  "kernelspec": {
   "display_name": "Python 3 (ipykernel)",
   "language": "python",
   "name": "python3"
  },
  "language_info": {
   "codemirror_mode": {
    "name": "ipython",
    "version": 3
   },
   "file_extension": ".py",
   "mimetype": "text/x-python",
   "name": "python",
   "nbconvert_exporter": "python",
   "pygments_lexer": "ipython3",
   "version": "3.9.7"
  }
 },
 "nbformat": 4,
 "nbformat_minor": 5
}
